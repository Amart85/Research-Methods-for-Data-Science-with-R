{
 "cells": [
  {
   "cell_type": "markdown",
   "metadata": {},
   "source": [
    "Module 2, Lab 1 - Sampling\n",
    "==========================\n",
    "\n",
    "In this lab, we will see how random samples (and the data analyses that\n",
    "come from them) estimate the populations they come from.\n",
    "\n",
    "This bears repeating: when you are working with a sample of data, you\n",
    "are using that as an estimate of the population that generated it.\n",
    "\n",
    "So, how good are your estimations? In working with professionals and\n",
    "students alike, I tend to find that our human intuitions are often\n",
    "wrong. However, we can play with sampling ourselves and see the results.\n",
    "\n",
    "First, we should set the seed. This tells R to use the same random\n",
    "numbers on your computer as mine, so that we should get the same\n",
    "results."
   ]
  },
  {
   "cell_type": "code",
   "execution_count": 1,
   "metadata": {},
   "outputs": [],
   "source": [
    "set.seed(12345)"
   ]
  },
  {
   "cell_type": "markdown",
   "metadata": {},
   "source": [
    "To generate a random sample that is normally distributed, we use\n",
    "`rnorm(n, mean, sd)`. For example, 50 responses from a population with a\n",
    "mean of 10 and standard deviation of 2 are:"
   ]
  },
  {
   "cell_type": "code",
   "execution_count": 2,
   "metadata": {},
   "outputs": [
    {
     "data": {
      "text/html": [
       "<ol class=list-inline>\n",
       "\t<li>11.1710576356877</li>\n",
       "\t<li>11.418932035019</li>\n",
       "\t<li>9.78139337063789</li>\n",
       "\t<li>9.09300565307447</li>\n",
       "\t<li>11.2117749116808</li>\n",
       "\t<li>6.36408806459254</li>\n",
       "\t<li>11.2601971021368</li>\n",
       "\t<li>9.44763178954957</li>\n",
       "\t<li>9.43168051211326</li>\n",
       "\t<li>8.16135599505174</li>\n",
       "\t<li>9.767504387296</li>\n",
       "\t<li>13.6346240874084</li>\n",
       "\t<li>10.7412557285159</li>\n",
       "\t<li>11.0404329151099</li>\n",
       "\t<li>8.49893601099534</li>\n",
       "\t<li>11.6337996790412</li>\n",
       "\t<li>8.22728495751358</li>\n",
       "\t<li>9.33684482011489</li>\n",
       "\t<li>12.2414253033391</li>\n",
       "\t<li>10.5974473985346</li>\n",
       "\t<li>11.5592438491106</li>\n",
       "\t<li>12.9115701649537</li>\n",
       "\t<li>8.7113431415374</li>\n",
       "\t<li>6.89372518954063</li>\n",
       "\t<li>6.80458096660738</li>\n",
       "\t<li>13.6101950376216</li>\n",
       "\t<li>9.03670527261073</li>\n",
       "\t<li>11.2407596025968</li>\n",
       "\t<li>11.2242469853017</li>\n",
       "\t<li>9.67537804616375</li>\n",
       "\t<li>11.6237463571077</li>\n",
       "\t<li>14.3936670926951</li>\n",
       "\t<li>14.0983806748124</li>\n",
       "\t<li>13.2648912789609</li>\n",
       "\t<li>10.5085423856281</li>\n",
       "\t<li>10.9823765585451</li>\n",
       "\t<li>9.35182684252577</li>\n",
       "\t<li>6.67589951228273</li>\n",
       "\t<li>13.5354677017459</li>\n",
       "\t<li>10.0516020972956</li>\n",
       "\t<li>12.2570216671804</li>\n",
       "\t<li>5.23928387720592</li>\n",
       "\t<li>7.87946889569494</li>\n",
       "\t<li>11.8742810803658</li>\n",
       "\t<li>11.7089034406611</li>\n",
       "\t<li>12.9214588062082</li>\n",
       "\t<li>7.17380244422161</li>\n",
       "\t<li>11.134806506849</li>\n",
       "\t<li>11.1663753068714</li>\n",
       "\t<li>7.38640233307115</li>\n",
       "</ol>\n"
      ],
      "text/latex": [
       "\\begin{enumerate*}\n",
       "\\item 11.1710576356877\n",
       "\\item 11.418932035019\n",
       "\\item 9.78139337063789\n",
       "\\item 9.09300565307447\n",
       "\\item 11.2117749116808\n",
       "\\item 6.36408806459254\n",
       "\\item 11.2601971021368\n",
       "\\item 9.44763178954957\n",
       "\\item 9.43168051211326\n",
       "\\item 8.16135599505174\n",
       "\\item 9.767504387296\n",
       "\\item 13.6346240874084\n",
       "\\item 10.7412557285159\n",
       "\\item 11.0404329151099\n",
       "\\item 8.49893601099534\n",
       "\\item 11.6337996790412\n",
       "\\item 8.22728495751358\n",
       "\\item 9.33684482011489\n",
       "\\item 12.2414253033391\n",
       "\\item 10.5974473985346\n",
       "\\item 11.5592438491106\n",
       "\\item 12.9115701649537\n",
       "\\item 8.7113431415374\n",
       "\\item 6.89372518954063\n",
       "\\item 6.80458096660738\n",
       "\\item 13.6101950376216\n",
       "\\item 9.03670527261073\n",
       "\\item 11.2407596025968\n",
       "\\item 11.2242469853017\n",
       "\\item 9.67537804616375\n",
       "\\item 11.6237463571077\n",
       "\\item 14.3936670926951\n",
       "\\item 14.0983806748124\n",
       "\\item 13.2648912789609\n",
       "\\item 10.5085423856281\n",
       "\\item 10.9823765585451\n",
       "\\item 9.35182684252577\n",
       "\\item 6.67589951228273\n",
       "\\item 13.5354677017459\n",
       "\\item 10.0516020972956\n",
       "\\item 12.2570216671804\n",
       "\\item 5.23928387720592\n",
       "\\item 7.87946889569494\n",
       "\\item 11.8742810803658\n",
       "\\item 11.7089034406611\n",
       "\\item 12.9214588062082\n",
       "\\item 7.17380244422161\n",
       "\\item 11.134806506849\n",
       "\\item 11.1663753068714\n",
       "\\item 7.38640233307115\n",
       "\\end{enumerate*}\n"
      ],
      "text/markdown": [
       "1. 11.1710576356877\n",
       "2. 11.418932035019\n",
       "3. 9.78139337063789\n",
       "4. 9.09300565307447\n",
       "5. 11.2117749116808\n",
       "6. 6.36408806459254\n",
       "7. 11.2601971021368\n",
       "8. 9.44763178954957\n",
       "9. 9.43168051211326\n",
       "10. 8.16135599505174\n",
       "11. 9.767504387296\n",
       "12. 13.6346240874084\n",
       "13. 10.7412557285159\n",
       "14. 11.0404329151099\n",
       "15. 8.49893601099534\n",
       "16. 11.6337996790412\n",
       "17. 8.22728495751358\n",
       "18. 9.33684482011489\n",
       "19. 12.2414253033391\n",
       "20. 10.5974473985346\n",
       "21. 11.5592438491106\n",
       "22. 12.9115701649537\n",
       "23. 8.7113431415374\n",
       "24. 6.89372518954063\n",
       "25. 6.80458096660738\n",
       "26. 13.6101950376216\n",
       "27. 9.03670527261073\n",
       "28. 11.2407596025968\n",
       "29. 11.2242469853017\n",
       "30. 9.67537804616375\n",
       "31. 11.6237463571077\n",
       "32. 14.3936670926951\n",
       "33. 14.0983806748124\n",
       "34. 13.2648912789609\n",
       "35. 10.5085423856281\n",
       "36. 10.9823765585451\n",
       "37. 9.35182684252577\n",
       "38. 6.67589951228273\n",
       "39. 13.5354677017459\n",
       "40. 10.0516020972956\n",
       "41. 12.2570216671804\n",
       "42. 5.23928387720592\n",
       "43. 7.87946889569494\n",
       "44. 11.8742810803658\n",
       "45. 11.7089034406611\n",
       "46. 12.9214588062082\n",
       "47. 7.17380244422161\n",
       "48. 11.134806506849\n",
       "49. 11.1663753068714\n",
       "50. 7.38640233307115\n",
       "\n",
       "\n"
      ],
      "text/plain": [
       " [1] 11.171058 11.418932  9.781393  9.093006 11.211775  6.364088 11.260197\n",
       " [8]  9.447632  9.431681  8.161356  9.767504 13.634624 10.741256 11.040433\n",
       "[15]  8.498936 11.633800  8.227285  9.336845 12.241425 10.597447 11.559244\n",
       "[22] 12.911570  8.711343  6.893725  6.804581 13.610195  9.036705 11.240760\n",
       "[29] 11.224247  9.675378 11.623746 14.393667 14.098381 13.264891 10.508542\n",
       "[36] 10.982377  9.351827  6.675900 13.535468 10.051602 12.257022  5.239284\n",
       "[43]  7.879469 11.874281 11.708903 12.921459  7.173802 11.134807 11.166375\n",
       "[50]  7.386402"
      ]
     },
     "metadata": {},
     "output_type": "display_data"
    }
   ],
   "source": [
    "rnorm(50, 10, 2)"
   ]
  },
  {
   "cell_type": "markdown",
   "metadata": {},
   "source": [
    "We can also do something similar with a binomial distribution (data can\n",
    "have two outcomes, such as \"like\" and \"don't like\" a product). Here is\n",
    "the the code: `rbinom(n, size=1, prob)`. The `prob` argument represents\n",
    "the likelihood of getting a `1` as opposed to a `0`. The size argument\n",
    "changes the nature of the distribution in a way I won't discuss here. If\n",
    "we want to simulate 50 responses from a population in which 30% of\n",
    "people like your product (`1`) and 70% do not (`0`), we use:"
   ]
  },
  {
   "cell_type": "code",
   "execution_count": 3,
   "metadata": {},
   "outputs": [
    {
     "data": {
      "text/html": [
       "<ol class=list-inline>\n",
       "\t<li>0</li>\n",
       "\t<li>0</li>\n",
       "\t<li>1</li>\n",
       "\t<li>0</li>\n",
       "\t<li>0</li>\n",
       "\t<li>1</li>\n",
       "\t<li>0</li>\n",
       "\t<li>1</li>\n",
       "\t<li>0</li>\n",
       "\t<li>0</li>\n",
       "\t<li>0</li>\n",
       "\t<li>0</li>\n",
       "\t<li>1</li>\n",
       "\t<li>0</li>\n",
       "\t<li>1</li>\n",
       "\t<li>1</li>\n",
       "\t<li>1</li>\n",
       "\t<li>0</li>\n",
       "\t<li>0</li>\n",
       "\t<li>0</li>\n",
       "\t<li>0</li>\n",
       "\t<li>0</li>\n",
       "\t<li>0</li>\n",
       "\t<li>0</li>\n",
       "\t<li>1</li>\n",
       "\t<li>1</li>\n",
       "\t<li>1</li>\n",
       "\t<li>0</li>\n",
       "\t<li>0</li>\n",
       "\t<li>1</li>\n",
       "\t<li>0</li>\n",
       "\t<li>0</li>\n",
       "\t<li>1</li>\n",
       "\t<li>0</li>\n",
       "\t<li>1</li>\n",
       "\t<li>1</li>\n",
       "\t<li>0</li>\n",
       "\t<li>0</li>\n",
       "\t<li>0</li>\n",
       "\t<li>1</li>\n",
       "\t<li>0</li>\n",
       "\t<li>0</li>\n",
       "\t<li>0</li>\n",
       "\t<li>0</li>\n",
       "\t<li>0</li>\n",
       "\t<li>1</li>\n",
       "\t<li>1</li>\n",
       "\t<li>0</li>\n",
       "\t<li>1</li>\n",
       "\t<li>0</li>\n",
       "</ol>\n"
      ],
      "text/latex": [
       "\\begin{enumerate*}\n",
       "\\item 0\n",
       "\\item 0\n",
       "\\item 1\n",
       "\\item 0\n",
       "\\item 0\n",
       "\\item 1\n",
       "\\item 0\n",
       "\\item 1\n",
       "\\item 0\n",
       "\\item 0\n",
       "\\item 0\n",
       "\\item 0\n",
       "\\item 1\n",
       "\\item 0\n",
       "\\item 1\n",
       "\\item 1\n",
       "\\item 1\n",
       "\\item 0\n",
       "\\item 0\n",
       "\\item 0\n",
       "\\item 0\n",
       "\\item 0\n",
       "\\item 0\n",
       "\\item 0\n",
       "\\item 1\n",
       "\\item 1\n",
       "\\item 1\n",
       "\\item 0\n",
       "\\item 0\n",
       "\\item 1\n",
       "\\item 0\n",
       "\\item 0\n",
       "\\item 1\n",
       "\\item 0\n",
       "\\item 1\n",
       "\\item 1\n",
       "\\item 0\n",
       "\\item 0\n",
       "\\item 0\n",
       "\\item 1\n",
       "\\item 0\n",
       "\\item 0\n",
       "\\item 0\n",
       "\\item 0\n",
       "\\item 0\n",
       "\\item 1\n",
       "\\item 1\n",
       "\\item 0\n",
       "\\item 1\n",
       "\\item 0\n",
       "\\end{enumerate*}\n"
      ],
      "text/markdown": [
       "1. 0\n",
       "2. 0\n",
       "3. 1\n",
       "4. 0\n",
       "5. 0\n",
       "6. 1\n",
       "7. 0\n",
       "8. 1\n",
       "9. 0\n",
       "10. 0\n",
       "11. 0\n",
       "12. 0\n",
       "13. 1\n",
       "14. 0\n",
       "15. 1\n",
       "16. 1\n",
       "17. 1\n",
       "18. 0\n",
       "19. 0\n",
       "20. 0\n",
       "21. 0\n",
       "22. 0\n",
       "23. 0\n",
       "24. 0\n",
       "25. 1\n",
       "26. 1\n",
       "27. 1\n",
       "28. 0\n",
       "29. 0\n",
       "30. 1\n",
       "31. 0\n",
       "32. 0\n",
       "33. 1\n",
       "34. 0\n",
       "35. 1\n",
       "36. 1\n",
       "37. 0\n",
       "38. 0\n",
       "39. 0\n",
       "40. 1\n",
       "41. 0\n",
       "42. 0\n",
       "43. 0\n",
       "44. 0\n",
       "45. 0\n",
       "46. 1\n",
       "47. 1\n",
       "48. 0\n",
       "49. 1\n",
       "50. 0\n",
       "\n",
       "\n"
      ],
      "text/plain": [
       " [1] 0 0 1 0 0 1 0 1 0 0 0 0 1 0 1 1 1 0 0 0 0 0 0 0 1 1 1 0 0 1 0 0 1 0 1 1 0 0\n",
       "[39] 0 1 0 0 0 0 0 1 1 0 1 0"
      ]
     },
     "metadata": {},
     "output_type": "display_data"
    }
   ],
   "source": [
    "rbinom(50, 1, .3)"
   ]
  },
  {
   "cell_type": "markdown",
   "metadata": {},
   "source": [
    "In this case, each `1` represents someone who likes your product and\n",
    "each `0` represents someone who does not.\n",
    "\n",
    "There are many distributions we can use with many shapes, including\n",
    "distributions that have skew, distributions that can resemble counts of\n",
    "things (e.g., only discrete numbers, most scores zero). We will stick\n",
    "with these two for this lab.\n",
    "\n",
    "\"Like\" vs \"Dislike\"\n",
    "===================\n",
    "\n",
    "Let's try the example above in which each `1` represents someone who\n",
    "likes your product and each `0` represents someone who does not.\n",
    "\n",
    "This time, I will run the sample and save the result."
   ]
  },
  {
   "cell_type": "code",
   "execution_count": 4,
   "metadata": {},
   "outputs": [],
   "source": [
    "sample1 <- rbinom(50, 1, .3)"
   ]
  },
  {
   "cell_type": "markdown",
   "metadata": {},
   "source": [
    "Now we can examine how well our sample did. In this case we *know* the\n",
    "population value was 30% (because we told R that when we ran the code).\n",
    "R then collected a random sample of 50 observations from that\n",
    "population. How close did it get to our true value of 30%?"
   ]
  },
  {
   "cell_type": "code",
   "execution_count": 5,
   "metadata": {},
   "outputs": [
    {
     "data": {
      "text/plain": [
       "sample1\n",
       " 0  1 \n",
       "27 23 "
      ]
     },
     "metadata": {},
     "output_type": "display_data"
    }
   ],
   "source": [
    "table(sample1)"
   ]
  },
  {
   "cell_type": "markdown",
   "metadata": {},
   "source": [
    "We wee here that we got 19 likes and 31 dislikes. We can convert to\n",
    "percentages by diving by 50 (which we can also get by requesting\n",
    "`sum(table(sample1)))`:"
   ]
  },
  {
   "cell_type": "code",
   "execution_count": 6,
   "metadata": {},
   "outputs": [
    {
     "data": {
      "text/plain": [
       "sample1\n",
       "   0    1 \n",
       "0.54 0.46 "
      ]
     },
     "metadata": {},
     "output_type": "display_data"
    },
    {
     "data": {
      "text/plain": [
       "sample1\n",
       "   0    1 \n",
       "0.54 0.46 "
      ]
     },
     "metadata": {},
     "output_type": "display_data"
    }
   ],
   "source": [
    "table(sample1)/50\n",
    "\n",
    "table(sample1)/sum(table(sample1))"
   ]
  },
  {
   "cell_type": "markdown",
   "metadata": {},
   "source": [
    "Our sample overestimated the number of people who like the product,\n",
    "returning \"38%\" instead of 30%.\n",
    "\n",
    "Because the data are coded `0` and `1`, we can also trick the math into\n",
    "returning a proportion by using `mean()`:"
   ]
  },
  {
   "cell_type": "code",
   "execution_count": 7,
   "metadata": {},
   "outputs": [
    {
     "data": {
      "text/html": [
       "0.46"
      ],
      "text/latex": [
       "0.46"
      ],
      "text/markdown": [
       "0.46"
      ],
      "text/plain": [
       "[1] 0.46"
      ]
     },
     "metadata": {},
     "output_type": "display_data"
    }
   ],
   "source": [
    "mean(sample1)"
   ]
  },
  {
   "cell_type": "markdown",
   "metadata": {},
   "source": [
    "Let's try this several times. Every time I run the code, a random sample\n",
    "will be collected, the proportion of people who like the product\n",
    "calculated, and reported to you."
   ]
  },
  {
   "cell_type": "code",
   "execution_count": 8,
   "metadata": {},
   "outputs": [
    {
     "data": {
      "text/html": [
       "0.3"
      ],
      "text/latex": [
       "0.3"
      ],
      "text/markdown": [
       "0.3"
      ],
      "text/plain": [
       "[1] 0.3"
      ]
     },
     "metadata": {},
     "output_type": "display_data"
    },
    {
     "data": {
      "text/html": [
       "0.38"
      ],
      "text/latex": [
       "0.38"
      ],
      "text/markdown": [
       "0.38"
      ],
      "text/plain": [
       "[1] 0.38"
      ]
     },
     "metadata": {},
     "output_type": "display_data"
    },
    {
     "data": {
      "text/html": [
       "0.3"
      ],
      "text/latex": [
       "0.3"
      ],
      "text/markdown": [
       "0.3"
      ],
      "text/plain": [
       "[1] 0.3"
      ]
     },
     "metadata": {},
     "output_type": "display_data"
    },
    {
     "data": {
      "text/html": [
       "0.34"
      ],
      "text/latex": [
       "0.34"
      ],
      "text/markdown": [
       "0.34"
      ],
      "text/plain": [
       "[1] 0.34"
      ]
     },
     "metadata": {},
     "output_type": "display_data"
    },
    {
     "data": {
      "text/html": [
       "0.3"
      ],
      "text/latex": [
       "0.3"
      ],
      "text/markdown": [
       "0.3"
      ],
      "text/plain": [
       "[1] 0.3"
      ]
     },
     "metadata": {},
     "output_type": "display_data"
    },
    {
     "data": {
      "text/html": [
       "0.36"
      ],
      "text/latex": [
       "0.36"
      ],
      "text/markdown": [
       "0.36"
      ],
      "text/plain": [
       "[1] 0.36"
      ]
     },
     "metadata": {},
     "output_type": "display_data"
    }
   ],
   "source": [
    "mean(rbinom(50, 1, .3))\n",
    "\n",
    "mean(rbinom(50, 1, .3))\n",
    "\n",
    "mean(rbinom(50, 1, .3))\n",
    "\n",
    "mean(rbinom(50, 1, .3))\n",
    "\n",
    "mean(rbinom(50, 1, .3))\n",
    "\n",
    "mean(rbinom(50, 1, .3))"
   ]
  },
  {
   "cell_type": "markdown",
   "metadata": {},
   "source": [
    "We see here that our samples are varying quite a bit. We can run many of\n",
    "these by using a loop. Let's try this 100 times. I assume you are\n",
    "familiar with loops in R."
   ]
  },
  {
   "cell_type": "code",
   "execution_count": 9,
   "metadata": {},
   "outputs": [
    {
     "data": {
      "text/html": [
       "<ol class=list-inline>\n",
       "\t<li>0.3</li>\n",
       "\t<li>0.22</li>\n",
       "\t<li>0.3</li>\n",
       "\t<li>0.38</li>\n",
       "\t<li>0.3</li>\n",
       "\t<li>0.3</li>\n",
       "\t<li>0.2</li>\n",
       "\t<li>0.28</li>\n",
       "\t<li>0.3</li>\n",
       "\t<li>0.18</li>\n",
       "\t<li>0.36</li>\n",
       "\t<li>0.32</li>\n",
       "\t<li>0.32</li>\n",
       "\t<li>0.4</li>\n",
       "\t<li>0.28</li>\n",
       "\t<li>0.32</li>\n",
       "\t<li>0.28</li>\n",
       "\t<li>0.38</li>\n",
       "\t<li>0.36</li>\n",
       "\t<li>0.34</li>\n",
       "\t<li>0.3</li>\n",
       "\t<li>0.44</li>\n",
       "\t<li>0.38</li>\n",
       "\t<li>0.36</li>\n",
       "\t<li>0.28</li>\n",
       "\t<li>0.24</li>\n",
       "\t<li>0.32</li>\n",
       "\t<li>0.22</li>\n",
       "\t<li>0.26</li>\n",
       "\t<li>0.3</li>\n",
       "\t<li>0.34</li>\n",
       "\t<li>0.24</li>\n",
       "\t<li>0.24</li>\n",
       "\t<li>0.28</li>\n",
       "\t<li>0.4</li>\n",
       "\t<li>0.42</li>\n",
       "\t<li>0.34</li>\n",
       "\t<li>0.28</li>\n",
       "\t<li>0.3</li>\n",
       "\t<li>0.22</li>\n",
       "\t<li>0.36</li>\n",
       "\t<li>0.28</li>\n",
       "\t<li>0.26</li>\n",
       "\t<li>0.18</li>\n",
       "\t<li>0.34</li>\n",
       "\t<li>0.2</li>\n",
       "\t<li>0.34</li>\n",
       "\t<li>0.38</li>\n",
       "\t<li>0.34</li>\n",
       "\t<li>0.26</li>\n",
       "\t<li>0.34</li>\n",
       "\t<li>0.32</li>\n",
       "\t<li>0.24</li>\n",
       "\t<li>0.26</li>\n",
       "\t<li>0.32</li>\n",
       "\t<li>0.28</li>\n",
       "\t<li>0.18</li>\n",
       "\t<li>0.3</li>\n",
       "\t<li>0.22</li>\n",
       "\t<li>0.26</li>\n",
       "\t<li>0.3</li>\n",
       "\t<li>0.22</li>\n",
       "\t<li>0.36</li>\n",
       "\t<li>0.24</li>\n",
       "\t<li>0.26</li>\n",
       "\t<li>0.28</li>\n",
       "\t<li>0.36</li>\n",
       "\t<li>0.32</li>\n",
       "\t<li>0.34</li>\n",
       "\t<li>0.26</li>\n",
       "\t<li>0.3</li>\n",
       "\t<li>0.28</li>\n",
       "\t<li>0.4</li>\n",
       "\t<li>0.28</li>\n",
       "\t<li>0.32</li>\n",
       "\t<li>0.28</li>\n",
       "\t<li>0.38</li>\n",
       "\t<li>0.36</li>\n",
       "\t<li>0.32</li>\n",
       "\t<li>0.32</li>\n",
       "\t<li>0.18</li>\n",
       "\t<li>0.22</li>\n",
       "\t<li>0.14</li>\n",
       "\t<li>0.34</li>\n",
       "\t<li>0.24</li>\n",
       "\t<li>0.28</li>\n",
       "\t<li>0.34</li>\n",
       "\t<li>0.28</li>\n",
       "\t<li>0.3</li>\n",
       "\t<li>0.22</li>\n",
       "\t<li>0.22</li>\n",
       "\t<li>0.36</li>\n",
       "\t<li>0.32</li>\n",
       "\t<li>0.28</li>\n",
       "\t<li>0.34</li>\n",
       "\t<li>0.26</li>\n",
       "\t<li>0.34</li>\n",
       "\t<li>0.28</li>\n",
       "\t<li>0.4</li>\n",
       "\t<li>0.28</li>\n",
       "</ol>\n"
      ],
      "text/latex": [
       "\\begin{enumerate*}\n",
       "\\item 0.3\n",
       "\\item 0.22\n",
       "\\item 0.3\n",
       "\\item 0.38\n",
       "\\item 0.3\n",
       "\\item 0.3\n",
       "\\item 0.2\n",
       "\\item 0.28\n",
       "\\item 0.3\n",
       "\\item 0.18\n",
       "\\item 0.36\n",
       "\\item 0.32\n",
       "\\item 0.32\n",
       "\\item 0.4\n",
       "\\item 0.28\n",
       "\\item 0.32\n",
       "\\item 0.28\n",
       "\\item 0.38\n",
       "\\item 0.36\n",
       "\\item 0.34\n",
       "\\item 0.3\n",
       "\\item 0.44\n",
       "\\item 0.38\n",
       "\\item 0.36\n",
       "\\item 0.28\n",
       "\\item 0.24\n",
       "\\item 0.32\n",
       "\\item 0.22\n",
       "\\item 0.26\n",
       "\\item 0.3\n",
       "\\item 0.34\n",
       "\\item 0.24\n",
       "\\item 0.24\n",
       "\\item 0.28\n",
       "\\item 0.4\n",
       "\\item 0.42\n",
       "\\item 0.34\n",
       "\\item 0.28\n",
       "\\item 0.3\n",
       "\\item 0.22\n",
       "\\item 0.36\n",
       "\\item 0.28\n",
       "\\item 0.26\n",
       "\\item 0.18\n",
       "\\item 0.34\n",
       "\\item 0.2\n",
       "\\item 0.34\n",
       "\\item 0.38\n",
       "\\item 0.34\n",
       "\\item 0.26\n",
       "\\item 0.34\n",
       "\\item 0.32\n",
       "\\item 0.24\n",
       "\\item 0.26\n",
       "\\item 0.32\n",
       "\\item 0.28\n",
       "\\item 0.18\n",
       "\\item 0.3\n",
       "\\item 0.22\n",
       "\\item 0.26\n",
       "\\item 0.3\n",
       "\\item 0.22\n",
       "\\item 0.36\n",
       "\\item 0.24\n",
       "\\item 0.26\n",
       "\\item 0.28\n",
       "\\item 0.36\n",
       "\\item 0.32\n",
       "\\item 0.34\n",
       "\\item 0.26\n",
       "\\item 0.3\n",
       "\\item 0.28\n",
       "\\item 0.4\n",
       "\\item 0.28\n",
       "\\item 0.32\n",
       "\\item 0.28\n",
       "\\item 0.38\n",
       "\\item 0.36\n",
       "\\item 0.32\n",
       "\\item 0.32\n",
       "\\item 0.18\n",
       "\\item 0.22\n",
       "\\item 0.14\n",
       "\\item 0.34\n",
       "\\item 0.24\n",
       "\\item 0.28\n",
       "\\item 0.34\n",
       "\\item 0.28\n",
       "\\item 0.3\n",
       "\\item 0.22\n",
       "\\item 0.22\n",
       "\\item 0.36\n",
       "\\item 0.32\n",
       "\\item 0.28\n",
       "\\item 0.34\n",
       "\\item 0.26\n",
       "\\item 0.34\n",
       "\\item 0.28\n",
       "\\item 0.4\n",
       "\\item 0.28\n",
       "\\end{enumerate*}\n"
      ],
      "text/markdown": [
       "1. 0.3\n",
       "2. 0.22\n",
       "3. 0.3\n",
       "4. 0.38\n",
       "5. 0.3\n",
       "6. 0.3\n",
       "7. 0.2\n",
       "8. 0.28\n",
       "9. 0.3\n",
       "10. 0.18\n",
       "11. 0.36\n",
       "12. 0.32\n",
       "13. 0.32\n",
       "14. 0.4\n",
       "15. 0.28\n",
       "16. 0.32\n",
       "17. 0.28\n",
       "18. 0.38\n",
       "19. 0.36\n",
       "20. 0.34\n",
       "21. 0.3\n",
       "22. 0.44\n",
       "23. 0.38\n",
       "24. 0.36\n",
       "25. 0.28\n",
       "26. 0.24\n",
       "27. 0.32\n",
       "28. 0.22\n",
       "29. 0.26\n",
       "30. 0.3\n",
       "31. 0.34\n",
       "32. 0.24\n",
       "33. 0.24\n",
       "34. 0.28\n",
       "35. 0.4\n",
       "36. 0.42\n",
       "37. 0.34\n",
       "38. 0.28\n",
       "39. 0.3\n",
       "40. 0.22\n",
       "41. 0.36\n",
       "42. 0.28\n",
       "43. 0.26\n",
       "44. 0.18\n",
       "45. 0.34\n",
       "46. 0.2\n",
       "47. 0.34\n",
       "48. 0.38\n",
       "49. 0.34\n",
       "50. 0.26\n",
       "51. 0.34\n",
       "52. 0.32\n",
       "53. 0.24\n",
       "54. 0.26\n",
       "55. 0.32\n",
       "56. 0.28\n",
       "57. 0.18\n",
       "58. 0.3\n",
       "59. 0.22\n",
       "60. 0.26\n",
       "61. 0.3\n",
       "62. 0.22\n",
       "63. 0.36\n",
       "64. 0.24\n",
       "65. 0.26\n",
       "66. 0.28\n",
       "67. 0.36\n",
       "68. 0.32\n",
       "69. 0.34\n",
       "70. 0.26\n",
       "71. 0.3\n",
       "72. 0.28\n",
       "73. 0.4\n",
       "74. 0.28\n",
       "75. 0.32\n",
       "76. 0.28\n",
       "77. 0.38\n",
       "78. 0.36\n",
       "79. 0.32\n",
       "80. 0.32\n",
       "81. 0.18\n",
       "82. 0.22\n",
       "83. 0.14\n",
       "84. 0.34\n",
       "85. 0.24\n",
       "86. 0.28\n",
       "87. 0.34\n",
       "88. 0.28\n",
       "89. 0.3\n",
       "90. 0.22\n",
       "91. 0.22\n",
       "92. 0.36\n",
       "93. 0.32\n",
       "94. 0.28\n",
       "95. 0.34\n",
       "96. 0.26\n",
       "97. 0.34\n",
       "98. 0.28\n",
       "99. 0.4\n",
       "100. 0.28\n",
       "\n",
       "\n"
      ],
      "text/plain": [
       "  [1] 0.30 0.22 0.30 0.38 0.30 0.30 0.20 0.28 0.30 0.18 0.36 0.32 0.32 0.40 0.28\n",
       " [16] 0.32 0.28 0.38 0.36 0.34 0.30 0.44 0.38 0.36 0.28 0.24 0.32 0.22 0.26 0.30\n",
       " [31] 0.34 0.24 0.24 0.28 0.40 0.42 0.34 0.28 0.30 0.22 0.36 0.28 0.26 0.18 0.34\n",
       " [46] 0.20 0.34 0.38 0.34 0.26 0.34 0.32 0.24 0.26 0.32 0.28 0.18 0.30 0.22 0.26\n",
       " [61] 0.30 0.22 0.36 0.24 0.26 0.28 0.36 0.32 0.34 0.26 0.30 0.28 0.40 0.28 0.32\n",
       " [76] 0.28 0.38 0.36 0.32 0.32 0.18 0.22 0.14 0.34 0.24 0.28 0.34 0.28 0.30 0.22\n",
       " [91] 0.22 0.36 0.32 0.28 0.34 0.26 0.34 0.28 0.40 0.28"
      ]
     },
     "metadata": {},
     "output_type": "display_data"
    }
   ],
   "source": [
    "# create container to place results\n",
    "results <- NULL\n",
    "\n",
    "for(i in 1:100){\n",
    "  results[i] <- mean(rbinom(50, 1, .3))\n",
    "}\n",
    "\n",
    "results"
   ]
  },
  {
   "cell_type": "markdown",
   "metadata": {},
   "source": [
    "We see considerable variance in these results. We can histogram them to\n",
    "see it better:"
   ]
  },
  {
   "cell_type": "code",
   "execution_count": 10,
   "metadata": {},
   "outputs": [
    {
     "data": {
      "image/png": "[encoded data removed]",
      "text/plain": [
       "Plot with title \"Histogram of results\""
      ]
     },
     "metadata": {},
     "output_type": "display_data"
    }
   ],
   "source": [
    "hist(results)"
   ]
  },
  {
   "cell_type": "markdown",
   "metadata": {},
   "source": [
    "![](Sampling_Lab_files/figure-markdown_strict/unnamed-chunk-10-1.png)\n",
    "\n",
    "We see here that, on average, random samples are trustworthy--after all,\n",
    "they are tending to get close to 30%. However, *individual* samples are\n",
    "less trustworthy. Some results are nearly as large as 45% or as low as\n",
    "10%. Yikes!\n",
    "\n",
    "We can also subtract .30 from each score to re-score them as the degree\n",
    "of error in each sample."
   ]
  },
  {
   "cell_type": "code",
   "execution_count": 11,
   "metadata": {},
   "outputs": [
    {
     "data": {
      "text/html": [
       "<ol class=list-inline>\n",
       "\t<li>0</li>\n",
       "\t<li>-0.08</li>\n",
       "\t<li>0</li>\n",
       "\t<li>0.08</li>\n",
       "\t<li>0</li>\n",
       "\t<li>0</li>\n",
       "\t<li>-0.1</li>\n",
       "\t<li>-0.02</li>\n",
       "\t<li>0</li>\n",
       "\t<li>-0.12</li>\n",
       "\t<li>0.06</li>\n",
       "\t<li>0.02</li>\n",
       "\t<li>0.02</li>\n",
       "\t<li>0.1</li>\n",
       "\t<li>-0.02</li>\n",
       "\t<li>0.02</li>\n",
       "\t<li>-0.02</li>\n",
       "\t<li>0.08</li>\n",
       "\t<li>0.06</li>\n",
       "\t<li>0.04</li>\n",
       "\t<li>0</li>\n",
       "\t<li>0.14</li>\n",
       "\t<li>0.08</li>\n",
       "\t<li>0.06</li>\n",
       "\t<li>-0.02</li>\n",
       "\t<li>-0.06</li>\n",
       "\t<li>0.02</li>\n",
       "\t<li>-0.08</li>\n",
       "\t<li>-0.04</li>\n",
       "\t<li>0</li>\n",
       "\t<li>0.04</li>\n",
       "\t<li>-0.06</li>\n",
       "\t<li>-0.06</li>\n",
       "\t<li>-0.02</li>\n",
       "\t<li>0.1</li>\n",
       "\t<li>0.12</li>\n",
       "\t<li>0.04</li>\n",
       "\t<li>-0.02</li>\n",
       "\t<li>0</li>\n",
       "\t<li>-0.08</li>\n",
       "\t<li>0.06</li>\n",
       "\t<li>-0.02</li>\n",
       "\t<li>-0.04</li>\n",
       "\t<li>-0.12</li>\n",
       "\t<li>0.04</li>\n",
       "\t<li>-0.1</li>\n",
       "\t<li>0.04</li>\n",
       "\t<li>0.08</li>\n",
       "\t<li>0.04</li>\n",
       "\t<li>-0.04</li>\n",
       "\t<li>0.04</li>\n",
       "\t<li>0.02</li>\n",
       "\t<li>-0.06</li>\n",
       "\t<li>-0.04</li>\n",
       "\t<li>0.02</li>\n",
       "\t<li>-0.02</li>\n",
       "\t<li>-0.12</li>\n",
       "\t<li>0</li>\n",
       "\t<li>-0.08</li>\n",
       "\t<li>-0.04</li>\n",
       "\t<li>0</li>\n",
       "\t<li>-0.08</li>\n",
       "\t<li>0.06</li>\n",
       "\t<li>-0.06</li>\n",
       "\t<li>-0.04</li>\n",
       "\t<li>-0.02</li>\n",
       "\t<li>0.06</li>\n",
       "\t<li>0.02</li>\n",
       "\t<li>0.04</li>\n",
       "\t<li>-0.04</li>\n",
       "\t<li>0</li>\n",
       "\t<li>-0.02</li>\n",
       "\t<li>0.1</li>\n",
       "\t<li>-0.02</li>\n",
       "\t<li>0.02</li>\n",
       "\t<li>-0.02</li>\n",
       "\t<li>0.08</li>\n",
       "\t<li>0.06</li>\n",
       "\t<li>0.02</li>\n",
       "\t<li>0.02</li>\n",
       "\t<li>-0.12</li>\n",
       "\t<li>-0.08</li>\n",
       "\t<li>-0.16</li>\n",
       "\t<li>0.04</li>\n",
       "\t<li>-0.06</li>\n",
       "\t<li>-0.02</li>\n",
       "\t<li>0.04</li>\n",
       "\t<li>-0.02</li>\n",
       "\t<li>0</li>\n",
       "\t<li>-0.08</li>\n",
       "\t<li>-0.08</li>\n",
       "\t<li>0.06</li>\n",
       "\t<li>0.02</li>\n",
       "\t<li>-0.02</li>\n",
       "\t<li>0.04</li>\n",
       "\t<li>-0.04</li>\n",
       "\t<li>0.04</li>\n",
       "\t<li>-0.02</li>\n",
       "\t<li>0.1</li>\n",
       "\t<li>-0.02</li>\n",
       "</ol>\n"
      ],
      "text/latex": [
       "\\begin{enumerate*}\n",
       "\\item 0\n",
       "\\item -0.08\n",
       "\\item 0\n",
       "\\item 0.08\n",
       "\\item 0\n",
       "\\item 0\n",
       "\\item -0.1\n",
       "\\item -0.02\n",
       "\\item 0\n",
       "\\item -0.12\n",
       "\\item 0.06\n",
       "\\item 0.02\n",
       "\\item 0.02\n",
       "\\item 0.1\n",
       "\\item -0.02\n",
       "\\item 0.02\n",
       "\\item -0.02\n",
       "\\item 0.08\n",
       "\\item 0.06\n",
       "\\item 0.04\n",
       "\\item 0\n",
       "\\item 0.14\n",
       "\\item 0.08\n",
       "\\item 0.06\n",
       "\\item -0.02\n",
       "\\item -0.06\n",
       "\\item 0.02\n",
       "\\item -0.08\n",
       "\\item -0.04\n",
       "\\item 0\n",
       "\\item 0.04\n",
       "\\item -0.06\n",
       "\\item -0.06\n",
       "\\item -0.02\n",
       "\\item 0.1\n",
       "\\item 0.12\n",
       "\\item 0.04\n",
       "\\item -0.02\n",
       "\\item 0\n",
       "\\item -0.08\n",
       "\\item 0.06\n",
       "\\item -0.02\n",
       "\\item -0.04\n",
       "\\item -0.12\n",
       "\\item 0.04\n",
       "\\item -0.1\n",
       "\\item 0.04\n",
       "\\item 0.08\n",
       "\\item 0.04\n",
       "\\item -0.04\n",
       "\\item 0.04\n",
       "\\item 0.02\n",
       "\\item -0.06\n",
       "\\item -0.04\n",
       "\\item 0.02\n",
       "\\item -0.02\n",
       "\\item -0.12\n",
       "\\item 0\n",
       "\\item -0.08\n",
       "\\item -0.04\n",
       "\\item 0\n",
       "\\item -0.08\n",
       "\\item 0.06\n",
       "\\item -0.06\n",
       "\\item -0.04\n",
       "\\item -0.02\n",
       "\\item 0.06\n",
       "\\item 0.02\n",
       "\\item 0.04\n",
       "\\item -0.04\n",
       "\\item 0\n",
       "\\item -0.02\n",
       "\\item 0.1\n",
       "\\item -0.02\n",
       "\\item 0.02\n",
       "\\item -0.02\n",
       "\\item 0.08\n",
       "\\item 0.06\n",
       "\\item 0.02\n",
       "\\item 0.02\n",
       "\\item -0.12\n",
       "\\item -0.08\n",
       "\\item -0.16\n",
       "\\item 0.04\n",
       "\\item -0.06\n",
       "\\item -0.02\n",
       "\\item 0.04\n",
       "\\item -0.02\n",
       "\\item 0\n",
       "\\item -0.08\n",
       "\\item -0.08\n",
       "\\item 0.06\n",
       "\\item 0.02\n",
       "\\item -0.02\n",
       "\\item 0.04\n",
       "\\item -0.04\n",
       "\\item 0.04\n",
       "\\item -0.02\n",
       "\\item 0.1\n",
       "\\item -0.02\n",
       "\\end{enumerate*}\n"
      ],
      "text/markdown": [
       "1. 0\n",
       "2. -0.08\n",
       "3. 0\n",
       "4. 0.08\n",
       "5. 0\n",
       "6. 0\n",
       "7. -0.1\n",
       "8. -0.02\n",
       "9. 0\n",
       "10. -0.12\n",
       "11. 0.06\n",
       "12. 0.02\n",
       "13. 0.02\n",
       "14. 0.1\n",
       "15. -0.02\n",
       "16. 0.02\n",
       "17. -0.02\n",
       "18. 0.08\n",
       "19. 0.06\n",
       "20. 0.04\n",
       "21. 0\n",
       "22. 0.14\n",
       "23. 0.08\n",
       "24. 0.06\n",
       "25. -0.02\n",
       "26. -0.06\n",
       "27. 0.02\n",
       "28. -0.08\n",
       "29. -0.04\n",
       "30. 0\n",
       "31. 0.04\n",
       "32. -0.06\n",
       "33. -0.06\n",
       "34. -0.02\n",
       "35. 0.1\n",
       "36. 0.12\n",
       "37. 0.04\n",
       "38. -0.02\n",
       "39. 0\n",
       "40. -0.08\n",
       "41. 0.06\n",
       "42. -0.02\n",
       "43. -0.04\n",
       "44. -0.12\n",
       "45. 0.04\n",
       "46. -0.1\n",
       "47. 0.04\n",
       "48. 0.08\n",
       "49. 0.04\n",
       "50. -0.04\n",
       "51. 0.04\n",
       "52. 0.02\n",
       "53. -0.06\n",
       "54. -0.04\n",
       "55. 0.02\n",
       "56. -0.02\n",
       "57. -0.12\n",
       "58. 0\n",
       "59. -0.08\n",
       "60. -0.04\n",
       "61. 0\n",
       "62. -0.08\n",
       "63. 0.06\n",
       "64. -0.06\n",
       "65. -0.04\n",
       "66. -0.02\n",
       "67. 0.06\n",
       "68. 0.02\n",
       "69. 0.04\n",
       "70. -0.04\n",
       "71. 0\n",
       "72. -0.02\n",
       "73. 0.1\n",
       "74. -0.02\n",
       "75. 0.02\n",
       "76. -0.02\n",
       "77. 0.08\n",
       "78. 0.06\n",
       "79. 0.02\n",
       "80. 0.02\n",
       "81. -0.12\n",
       "82. -0.08\n",
       "83. -0.16\n",
       "84. 0.04\n",
       "85. -0.06\n",
       "86. -0.02\n",
       "87. 0.04\n",
       "88. -0.02\n",
       "89. 0\n",
       "90. -0.08\n",
       "91. -0.08\n",
       "92. 0.06\n",
       "93. 0.02\n",
       "94. -0.02\n",
       "95. 0.04\n",
       "96. -0.04\n",
       "97. 0.04\n",
       "98. -0.02\n",
       "99. 0.1\n",
       "100. -0.02\n",
       "\n",
       "\n"
      ],
      "text/plain": [
       "  [1]  0.00 -0.08  0.00  0.08  0.00  0.00 -0.10 -0.02  0.00 -0.12  0.06  0.02\n",
       " [13]  0.02  0.10 -0.02  0.02 -0.02  0.08  0.06  0.04  0.00  0.14  0.08  0.06\n",
       " [25] -0.02 -0.06  0.02 -0.08 -0.04  0.00  0.04 -0.06 -0.06 -0.02  0.10  0.12\n",
       " [37]  0.04 -0.02  0.00 -0.08  0.06 -0.02 -0.04 -0.12  0.04 -0.10  0.04  0.08\n",
       " [49]  0.04 -0.04  0.04  0.02 -0.06 -0.04  0.02 -0.02 -0.12  0.00 -0.08 -0.04\n",
       " [61]  0.00 -0.08  0.06 -0.06 -0.04 -0.02  0.06  0.02  0.04 -0.04  0.00 -0.02\n",
       " [73]  0.10 -0.02  0.02 -0.02  0.08  0.06  0.02  0.02 -0.12 -0.08 -0.16  0.04\n",
       " [85] -0.06 -0.02  0.04 -0.02  0.00 -0.08 -0.08  0.06  0.02 -0.02  0.04 -0.04\n",
       " [97]  0.04 -0.02  0.10 -0.02"
      ]
     },
     "metadata": {},
     "output_type": "display_data"
    }
   ],
   "source": [
    "results.error <- results - .30\n",
    "\n",
    "results.error"
   ]
  },
  {
   "cell_type": "markdown",
   "metadata": {},
   "source": [
    "We see here that most sample scores are within about 5% of the true\n",
    "population value value. Still, depending on what we want to do with the\n",
    "data, that could be unacceptably large. The property of samples to\n",
    "\"mis-estimate\" the population is called sampling error and it is clearly\n",
    "a big problem, leading to many a bad decision. The degree to which your\n",
    "individual samples tend to \"mis-estimate\" the population (shown above:\n",
    "`results.error`) is something we want to estimate. Typically, we\n",
    "quantify this by taking the standard deviation of these errors. This is\n",
    "called \"standard error\", and it is a single number, how far \"off\" our\n",
    "samples tend to be, on average:"
   ]
  },
  {
   "cell_type": "code",
   "execution_count": 12,
   "metadata": {},
   "outputs": [
    {
     "data": {
      "text/html": [
       "0.0597405163430087"
      ],
      "text/latex": [
       "0.0597405163430087"
      ],
      "text/markdown": [
       "0.0597405163430087"
      ],
      "text/plain": [
       "[1] 0.05974052"
      ]
     },
     "metadata": {},
     "output_type": "display_data"
    }
   ],
   "source": [
    "sd(results.error)"
   ]
  },
  {
   "cell_type": "markdown",
   "metadata": {},
   "source": [
    "Aha, so we see that the average sample is \"off\" from the population\n",
    "value by 6%. Some are \"off\" by more; some are \"off\" by less, but the\n",
    "average sample is off by 6%. In other words, our standard error is 6%.\n",
    "\n",
    "Fun fact: you can also estimate the standard error with a simple\n",
    "equation. For binomial data (`0` and `1` scores), the equation is:\n",
    "\n",
    "$$se = \\sqrt{\\frac{p\\left ( 1-p \\right )}{n-1}}$$\n",
    " Here, p is the percentage in the population. So, plugging in our\n",
    "values:"
   ]
  },
  {
   "cell_type": "code",
   "execution_count": 13,
   "metadata": {},
   "outputs": [
    {
     "data": {
      "text/html": [
       "0.0654653670707977"
      ],
      "text/latex": [
       "0.0654653670707977"
      ],
      "text/markdown": [
       "0.0654653670707977"
      ],
      "text/plain": [
       "[1] 0.06546537"
      ]
     },
     "metadata": {},
     "output_type": "display_data"
    }
   ],
   "source": [
    "sqrt((.30*(1-.3))/(50-1))"
   ]
  },
  {
   "cell_type": "markdown",
   "metadata": {},
   "source": [
    "This is convenient, because it tells us that we don't really need to run\n",
    "simulations like the above to know how trustworthy our samples are. In\n",
    "fact, plugging in a reasonable guess for the population value and a\n",
    "sample size, we can know *before we run a study* how trustworthy a\n",
    "typical sample will be.\n",
    "\n",
    "Clearly, a large standard error is a bad thing. We can reduce this\n",
    "problem by relying on a larger sample. For example, try using a sample\n",
    "of 700 in the equation for standard error shown previously:"
   ]
  },
  {
   "cell_type": "code",
   "execution_count": 14,
   "metadata": {},
   "outputs": [
    {
     "data": {
      "text/html": [
       "0.0173328931384624"
      ],
      "text/latex": [
       "0.0173328931384624"
      ],
      "text/markdown": [
       "0.0173328931384624"
      ],
      "text/plain": [
       "[1] 0.01733289"
      ]
     },
     "metadata": {},
     "output_type": "display_data"
    }
   ],
   "source": [
    "sqrt((.30*(1-.3))/(700-1))"
   ]
  },
  {
   "cell_type": "markdown",
   "metadata": {},
   "source": [
    "We see now that the typical sample will be off by only 1.7% from the\n",
    "population value. We can run a similar loop as done before and see this\n",
    "in action:"
   ]
  },
  {
   "cell_type": "code",
   "execution_count": 15,
   "metadata": {},
   "outputs": [
    {
     "data": {
      "text/html": [
       "0.0178507982957025"
      ],
      "text/latex": [
       "0.0178507982957025"
      ],
      "text/markdown": [
       "0.0178507982957025"
      ],
      "text/plain": [
       "[1] 0.0178508"
      ]
     },
     "metadata": {},
     "output_type": "display_data"
    },
    {
     "data": {
      "image/png": "[encoded data removed]",
      "text/plain": [
       "Plot with title \"Histogram of results\""
      ]
     },
     "metadata": {},
     "output_type": "display_data"
    }
   ],
   "source": [
    "# create container to place results\n",
    "results <- NULL\n",
    "\n",
    "for(i in 1:100){\n",
    "  results[i] <- mean(rbinom(700, 1, .3))\n",
    "}\n",
    "\n",
    "sd(results)\n",
    "\n",
    "hist(results)"
   ]
  },
  {
   "cell_type": "markdown",
   "metadata": {},
   "source": [
    "![](Sampling_Lab_files/figure-markdown_strict/unnamed-chunk-15-1.png)\n",
    "\n",
    "We see here, now that most results between 26% and 34%, with the typical\n",
    "result being \"off\" by only 1.7%...exactly as our standard error equation\n",
    "predicted.\n",
    "\n",
    "Every data situation has a standard error. The point is not to learn a\n",
    "large number of equations but rather to emphasize the following point:\n",
    "samples (and the statistics they produce) are flawed estimates of the\n",
    "population. However, they become more and more accurate as the sample\n",
    "sizes they are based on increase.\n",
    "\n",
    "We will discover, soon, that this will give us the concept of\n",
    "statistical power. Large samples will produce results strong enough that\n",
    "we can make meaningful statements about the population (in such\n",
    "situations, we have \"good power\"), where small samples contain so much\n",
    "error that we cannot say much meaningful about the population (\"weak\n",
    "power\")."
   ]
  }
 ],
 "metadata": {
  "kernelspec": {
   "display_name": "R",
   "language": "R",
   "name": "ir"
  },
  "language_info": {
   "codemirror_mode": "r",
   "file_extension": ".r",
   "mimetype": "text/x-r-source",
   "name": "R",
   "pygments_lexer": "r",
   "version": "3.5.0"
  }
 },
 "nbformat": 4,
 "nbformat_minor": 2
}
