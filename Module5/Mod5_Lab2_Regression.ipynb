{
 "cells": [
  {
   "cell_type": "markdown",
   "metadata": {},
   "source": [
    "Module 5, Lab 2 - Regression\n",
    "============================\n",
    "\n",
    "In this lab, we continue from where we were in the previous lab. In case\n",
    "it's been a little while, I will re-load the data and get you up and\n",
    "running.\n",
    "\n",
    "Regression is used when you seek to *understand* or *predict* a given\n",
    "outcome variable in greater depth. One problem with correlation, as we\n",
    "saw in the previous lab, is that many of our variables overlap. In\n",
    "regression, we can isolate the unique or non-overlapping relationships\n",
    "among our variables. This is very powerful, as it allows us to\n",
    "understand what our variables are doing in a new way.\n",
    "\n",
    "In this example, we have a dataset, inspired by a dataset published on\n",
    "kaggle (<https://www.kaggle.com/unsdsn/world-happiness>). In this\n",
    "dataset, several regions of the world are compared on dimensions such as\n",
    "their generosity, happiness, GDP, and so forth.\n",
    "\n",
    "In this lab, we will use the `ggplot2` package for data visualization,\n",
    "the `lm.beta` package to give standardized regression coefficients, the\n",
    "`corrplot` package for making visual correlation tables, and the `psych`\n",
    "package for detecting skew and making correlation matrices."
   ]
  },
  {
   "cell_type": "code",
   "execution_count": 1,
   "metadata": {},
   "outputs": [
    {
     "name": "stderr",
     "output_type": "stream",
     "text": [
      "Installing package into 'C:/Users/StevePC2/Documents/R/win-library/3.5'\n",
      "(as 'lib' is unspecified)\n"
     ]
    },
    {
     "name": "stdout",
     "output_type": "stream",
     "text": [
      "package 'lm.beta' successfully unpacked and MD5 sums checked\n",
      "\n",
      "The downloaded binary packages are in\n",
      "\tC:\\Users\\StevePC2\\AppData\\Local\\Temp\\RtmpOK9rCW\\downloaded_packages\n"
     ]
    },
    {
     "name": "stderr",
     "output_type": "stream",
     "text": [
      "Installing package into 'C:/Users/StevePC2/Documents/R/win-library/3.5'\n",
      "(as 'lib' is unspecified)\n"
     ]
    },
    {
     "name": "stdout",
     "output_type": "stream",
     "text": [
      "package 'corrplot' successfully unpacked and MD5 sums checked\n",
      "\n",
      "The downloaded binary packages are in\n",
      "\tC:\\Users\\StevePC2\\AppData\\Local\\Temp\\RtmpOK9rCW\\downloaded_packages\n"
     ]
    },
    {
     "name": "stderr",
     "output_type": "stream",
     "text": [
      "Warning message:\n",
      "\"package 'corrplot' was built under R version 3.5.1\"corrplot 0.84 loaded\n",
      "Warning message:\n",
      "\"package 'psych' was built under R version 3.5.1\"\n",
      "Attaching package: 'psych'\n",
      "\n",
      "The following objects are masked from 'package:ggplot2':\n",
      "\n",
      "    %+%, alpha\n",
      "\n"
     ]
    }
   ],
   "source": [
    "#### LOAD PACKAGES ####\n",
    "install.packages('lm.beta')\n",
    "install.packages('corrplot')\n",
    "library(ggplot2)\n",
    "library(lm.beta)\n",
    "library(corrplot)\n",
    "\n",
    "## corrplot 0.84 loaded\n",
    "\n",
    "library(psych)\n",
    "\n",
    "## \n",
    "## Attaching package: 'psych'\n",
    "\n",
    "## The following objects are masked from 'package:ggplot2':\n",
    "## \n",
    "##     %+%, alpha"
   ]
  },
  {
   "cell_type": "markdown",
   "metadata": {},
   "source": [
    "Load Data\n",
    "=========\n",
    "\n",
    "Next, let's load the data."
   ]
  },
  {
   "cell_type": "code",
   "execution_count": 3,
   "metadata": {},
   "outputs": [],
   "source": [
    "#### LOAD DATA ####\n",
    "dat <- read.csv(\"datasets/regionalhappy.csv\")"
   ]
  },
  {
   "cell_type": "markdown",
   "metadata": {},
   "source": [
    "Inspecting the dataset, we see the names are a little messy:"
   ]
  },
  {
   "cell_type": "code",
   "execution_count": 4,
   "metadata": {},
   "outputs": [
    {
     "data": {
      "text/html": [
       "<ol class=list-inline>\n",
       "\t<li>'Happiness.Score'</li>\n",
       "\t<li>'Economy..GDP.per.Capita.'</li>\n",
       "\t<li>'Family'</li>\n",
       "\t<li>'Health..Life.Expectancy.'</li>\n",
       "\t<li>'Freedom'</li>\n",
       "\t<li>'Generosity'</li>\n",
       "\t<li>'Trust..Government.Corruption.'</li>\n",
       "\t<li>'Dystopia.Residual'</li>\n",
       "</ol>\n"
      ],
      "text/latex": [
       "\\begin{enumerate*}\n",
       "\\item 'Happiness.Score'\n",
       "\\item 'Economy..GDP.per.Capita.'\n",
       "\\item 'Family'\n",
       "\\item 'Health..Life.Expectancy.'\n",
       "\\item 'Freedom'\n",
       "\\item 'Generosity'\n",
       "\\item 'Trust..Government.Corruption.'\n",
       "\\item 'Dystopia.Residual'\n",
       "\\end{enumerate*}\n"
      ],
      "text/markdown": [
       "1. 'Happiness.Score'\n",
       "2. 'Economy..GDP.per.Capita.'\n",
       "3. 'Family'\n",
       "4. 'Health..Life.Expectancy.'\n",
       "5. 'Freedom'\n",
       "6. 'Generosity'\n",
       "7. 'Trust..Government.Corruption.'\n",
       "8. 'Dystopia.Residual'\n",
       "\n",
       "\n"
      ],
      "text/plain": [
       "[1] \"Happiness.Score\"               \"Economy..GDP.per.Capita.\"     \n",
       "[3] \"Family\"                        \"Health..Life.Expectancy.\"     \n",
       "[5] \"Freedom\"                       \"Generosity\"                   \n",
       "[7] \"Trust..Government.Corruption.\" \"Dystopia.Residual\"            "
      ]
     },
     "metadata": {},
     "output_type": "display_data"
    }
   ],
   "source": [
    "names(dat)\n",
    "\n",
    "## [1] \"Happiness.Score\"               \"Economy..GDP.per.Capita.\"     \n",
    "## [3] \"Family\"                        \"Health..Life.Expectancy.\"     \n",
    "## [5] \"Freedom\"                       \"Generosity\"                   \n",
    "## [7] \"Trust..Government.Corruption.\" \"Dystopia.Residual\""
   ]
  },
  {
   "cell_type": "markdown",
   "metadata": {},
   "source": [
    "We can rename them easily with `names()`:"
   ]
  },
  {
   "cell_type": "code",
   "execution_count": 5,
   "metadata": {},
   "outputs": [],
   "source": [
    "names(dat) <- c(\"Happiness\", \"GDP\", \"Family\", \"Life.Expect\", \"Freedom\", \"Generosity\", \"Trust.Gov\", \"Dystopia\")"
   ]
  },
  {
   "cell_type": "markdown",
   "metadata": {},
   "source": [
    "Let's look at the first few rows of the data:"
   ]
  },
  {
   "cell_type": "code",
   "execution_count": 6,
   "metadata": {},
   "outputs": [
    {
     "data": {
      "text/html": [
       "<table>\n",
       "<thead><tr><th scope=col>Happiness</th><th scope=col>GDP</th><th scope=col>Family</th><th scope=col>Life.Expect</th><th scope=col>Freedom</th><th scope=col>Generosity</th><th scope=col>Trust.Gov</th><th scope=col>Dystopia</th></tr></thead>\n",
       "<tbody>\n",
       "\t<tr><td>7.537    </td><td>1.616463 </td><td>1.533524 </td><td>0.7966665</td><td>0.6354226</td><td>0.3620122</td><td>0.3159638</td><td>2.277027 </td></tr>\n",
       "\t<tr><td>7.522    </td><td>1.482383 </td><td>1.551122 </td><td>0.7925655</td><td>0.6260067</td><td>0.3552805</td><td>0.4007701</td><td>2.313707 </td></tr>\n",
       "\t<tr><td>7.504    </td><td>1.480633 </td><td>1.610574 </td><td>0.8335521</td><td>0.6271626</td><td>0.4755402</td><td>0.1535266</td><td>2.322715 </td></tr>\n",
       "\t<tr><td>7.494    </td><td>1.564980 </td><td>1.516912 </td><td>0.8581313</td><td>0.6200706</td><td>0.2905493</td><td>0.3670073</td><td>2.276716 </td></tr>\n",
       "\t<tr><td>7.469    </td><td>1.443572 </td><td>1.540247 </td><td>0.8091577</td><td>0.6179509</td><td>0.2454828</td><td>0.3826115</td><td>2.430182 </td></tr>\n",
       "\t<tr><td>7.377    </td><td>1.503945 </td><td>1.428939 </td><td>0.8106961</td><td>0.5853845</td><td>0.4704898</td><td>0.2826618</td><td>2.294804 </td></tr>\n",
       "</tbody>\n",
       "</table>\n"
      ],
      "text/latex": [
       "\\begin{tabular}{r|llllllll}\n",
       " Happiness & GDP & Family & Life.Expect & Freedom & Generosity & Trust.Gov & Dystopia\\\\\n",
       "\\hline\n",
       "\t 7.537     & 1.616463  & 1.533524  & 0.7966665 & 0.6354226 & 0.3620122 & 0.3159638 & 2.277027 \\\\\n",
       "\t 7.522     & 1.482383  & 1.551122  & 0.7925655 & 0.6260067 & 0.3552805 & 0.4007701 & 2.313707 \\\\\n",
       "\t 7.504     & 1.480633  & 1.610574  & 0.8335521 & 0.6271626 & 0.4755402 & 0.1535266 & 2.322715 \\\\\n",
       "\t 7.494     & 1.564980  & 1.516912  & 0.8581313 & 0.6200706 & 0.2905493 & 0.3670073 & 2.276716 \\\\\n",
       "\t 7.469     & 1.443572  & 1.540247  & 0.8091577 & 0.6179509 & 0.2454828 & 0.3826115 & 2.430182 \\\\\n",
       "\t 7.377     & 1.503945  & 1.428939  & 0.8106961 & 0.5853845 & 0.4704898 & 0.2826618 & 2.294804 \\\\\n",
       "\\end{tabular}\n"
      ],
      "text/markdown": [
       "\n",
       "Happiness | GDP | Family | Life.Expect | Freedom | Generosity | Trust.Gov | Dystopia | \n",
       "|---|---|---|---|---|---|\n",
       "| 7.537     | 1.616463  | 1.533524  | 0.7966665 | 0.6354226 | 0.3620122 | 0.3159638 | 2.277027  | \n",
       "| 7.522     | 1.482383  | 1.551122  | 0.7925655 | 0.6260067 | 0.3552805 | 0.4007701 | 2.313707  | \n",
       "| 7.504     | 1.480633  | 1.610574  | 0.8335521 | 0.6271626 | 0.4755402 | 0.1535266 | 2.322715  | \n",
       "| 7.494     | 1.564980  | 1.516912  | 0.8581313 | 0.6200706 | 0.2905493 | 0.3670073 | 2.276716  | \n",
       "| 7.469     | 1.443572  | 1.540247  | 0.8091577 | 0.6179509 | 0.2454828 | 0.3826115 | 2.430182  | \n",
       "| 7.377     | 1.503945  | 1.428939  | 0.8106961 | 0.5853845 | 0.4704898 | 0.2826618 | 2.294804  | \n",
       "\n",
       "\n"
      ],
      "text/plain": [
       "  Happiness GDP      Family   Life.Expect Freedom   Generosity Trust.Gov\n",
       "1 7.537     1.616463 1.533524 0.7966665   0.6354226 0.3620122  0.3159638\n",
       "2 7.522     1.482383 1.551122 0.7925655   0.6260067 0.3552805  0.4007701\n",
       "3 7.504     1.480633 1.610574 0.8335521   0.6271626 0.4755402  0.1535266\n",
       "4 7.494     1.564980 1.516912 0.8581313   0.6200706 0.2905493  0.3670073\n",
       "5 7.469     1.443572 1.540247 0.8091577   0.6179509 0.2454828  0.3826115\n",
       "6 7.377     1.503945 1.428939 0.8106961   0.5853845 0.4704898  0.2826618\n",
       "  Dystopia\n",
       "1 2.277027\n",
       "2 2.313707\n",
       "3 2.322715\n",
       "4 2.276716\n",
       "5 2.430182\n",
       "6 2.294804"
      ]
     },
     "metadata": {},
     "output_type": "display_data"
    }
   ],
   "source": [
    "head(dat)\n",
    "\n",
    "##   Happiness      GDP   Family Life.Expect   Freedom Generosity Trust.Gov\n",
    "## 1     7.537 1.616463 1.533524   0.7966665 0.6354226  0.3620122 0.3159638\n",
    "## 2     7.522 1.482383 1.551122   0.7925655 0.6260067  0.3552805 0.4007701\n",
    "## 3     7.504 1.480633 1.610574   0.8335521 0.6271626  0.4755402 0.1535266\n",
    "## 4     7.494 1.564980 1.516912   0.8581313 0.6200706  0.2905493 0.3670073\n",
    "## 5     7.469 1.443572 1.540247   0.8091577 0.6179509  0.2454828 0.3826115\n",
    "## 6     7.377 1.503945 1.428939   0.8106961 0.5853845  0.4704898 0.2826618\n",
    "##   Dystopia\n",
    "## 1 2.277027\n",
    "## 2 2.313707\n",
    "## 3 2.322715\n",
    "## 4 2.276716\n",
    "## 5 2.430182\n",
    "## 6 2.294804"
   ]
  },
  {
   "cell_type": "markdown",
   "metadata": {},
   "source": [
    "Much better.\n",
    "\n",
    "Regression Concepts\n",
    "===================\n",
    "\n",
    "Recall that the purpose of regression is to predict one variable. In\n",
    "this case, let's predict `Happiness`. In regression, this is done by\n",
    "generating an equation that predicts the outcome from one or more\n",
    "predictors. The equation looks like this for a single predictor:\n",
    "\n",
    "$$Y' = b_0 + b_1 x$$\n",
    "\n",
    " In this regression equation, we can guess each person's Y score (*Y*′)\n",
    "by starting with a constant (i.e., intercept, *b*<sub>0</sub>) and\n",
    "adding to that their score on a predictor variable (*x*<sub>1</sub>),\n",
    "multiplied by its respective slope (*b*<sub>1</sub>).\n",
    "\n",
    "We need not only use one predictor:\n",
    "\n",
    "$$Y' = b_0 + b_1 x + b_2 x + b_3 x + b_4 x \\ldots$$\n",
    "\n",
    "\n",
    "In regression, you can have as many predictors as you want, and each\n",
    "one you add (assuming it's useful), should improve the accuracy of the\n",
    "prediction. As you can imagine, this is immensely useful in many data\n",
    "science applications, as it literally provides the ability to predict\n",
    "the future.\n",
    "\n",
    "For example, imagine we wanted to predict `Happiness` from a series of\n",
    "some of our variables:\n",
    "\n",
    "For example, imagine we wanted to predict `Happiness` from a series of\n",
    "some of our variables:\n",
    "\n",
    "$$Happiness = b_0 + b_1 \\cdot GDP + b_2 \\cdot Family + b_3 \\cdot Life\\_Expect + b_4 \\cdot Freedom + \n",
    "b_5 \\cdot Generosity$$\n",
    "\n",
    "In this regression equation, we can guess each person's `Happiness`\n",
    "score by starting with the constant (i.e., intercept, *b*<sub>0</sub>)\n",
    "and adding to that their score on each of the other variables (GDP,\n",
    "Family, Life.Expect, Freedom, Generosity), multiplied by its respective\n",
    "slope\n",
    "(*b*<sub>1</sub>, *b*<sub>2</sub>, *b*<sub>3</sub>, *b*<sub>4</sub>, *b*<sub>5</sub>).\n",
    "\n",
    "In addition to helping to predict an outcome, regression is also useful\n",
    "for *understanding* the variables. By definition, the slope is the\n",
    "expected increase in the outcome (e.g., expected gain in happiness) for\n",
    "every one unit of that predictor. For example, if the slope for `GDP`\n",
    "was 2.18, then by definition I expect to gain an additional 2.18 units\n",
    "of happiness for every one unit of GDP. The larger the slope, the more\n",
    "\"potent\" the variable. A large slope means you get a *lot* of the\n",
    "outcome (e.g., a lot of happiness) out for every one unit of the\n",
    "predictor. Conversely, if the slope were zero, the predictor literally\n",
    "would not matter; adding more of that predictor would have no impact on\n",
    "the (prediction of the) outcome. So, the slope can be though of as the\n",
    "importance of that variable for your outcome.\n",
    "\n",
    "In a regression analysis, all that is needed is the set of *b*s.\n",
    "\n",
    "Let's try this with a basic regression with one predictor. Let's predict\n",
    "`Happiness` from `GDP`.\n",
    "\n",
    "A Simple Regression\n",
    "===================\n",
    "\n",
    "To fit a regression, all we do is ask R to calculate the slope(s) and\n",
    "intercept. This is done with the code:\n",
    "`lm(outcome ~ predictor, data=dat)`. Note that you do not need to list\n",
    "them as `dat$outcome` although you can. There are good reasons not to,\n",
    "however. It's better to have all the variables in one data frame and do\n",
    "it this way."
   ]
  },
  {
   "cell_type": "code",
   "execution_count": 7,
   "metadata": {},
   "outputs": [
    {
     "data": {
      "text/plain": [
       "\n",
       "Call:\n",
       "lm(formula = Happiness ~ GDP, data = dat)\n",
       "\n",
       "Coefficients:\n",
       "(Intercept)          GDP  \n",
       "      3.203        2.184  \n"
      ]
     },
     "metadata": {},
     "output_type": "display_data"
    }
   ],
   "source": [
    "lm(Happiness ~ GDP, data=dat)\n",
    "\n",
    "## \n",
    "## Call:\n",
    "## lm(formula = Happiness ~ GDP, data = dat)\n",
    "## \n",
    "## Coefficients:\n",
    "## (Intercept)          GDP  \n",
    "##       3.203        2.184"
   ]
  },
  {
   "cell_type": "markdown",
   "metadata": {},
   "source": [
    "Thus, our regression equation is as follows:\n",
    "\n",
    "> Happiness' = 3.2 + 2.18(GDP).\n",
    "\n",
    "That is, we can take anyone's `GDP` score and plug it into this equation\n",
    "to predict their happiness. To get a sense as to what a \"high\" happiness\n",
    "scores is, let's inspect its distribution:"
   ]
  },
  {
   "cell_type": "code",
   "execution_count": 8,
   "metadata": {},
   "outputs": [
    {
     "data": {
      "text/html": [
       "<ol class=list-inline>\n",
       "\t<li>2.693000078</li>\n",
       "\t<li>7.537000179</li>\n",
       "</ol>\n"
      ],
      "text/latex": [
       "\\begin{enumerate*}\n",
       "\\item 2.693000078\n",
       "\\item 7.537000179\n",
       "\\end{enumerate*}\n"
      ],
      "text/markdown": [
       "1. 2.693000078\n",
       "2. 7.537000179\n",
       "\n",
       "\n"
      ],
      "text/plain": [
       "[1] 2.693 7.537"
      ]
     },
     "metadata": {},
     "output_type": "display_data"
    },
    {
     "data": {
      "image/png": "[encoded data removed]",
      "text/plain": [
       "Plot with title \"Histogram of dat$Happiness\""
      ]
     },
     "metadata": {},
     "output_type": "display_data"
    }
   ],
   "source": [
    "range(dat$Happiness)\n",
    "\n",
    "## [1] 2.693 7.537\n",
    "\n",
    "hist(dat$Happiness)"
   ]
  },
  {
   "cell_type": "markdown",
   "metadata": {},
   "source": [
    "![](Mod3_Lab2_-_Regression_files/figure-markdown_strict/unnamed-chunk-8-1.png)\n",
    "Happiness scores tend to range from ~ 2-8.\n",
    "\n",
    "Let's look at the distribution of `GDP` scores:"
   ]
  },
  {
   "cell_type": "code",
   "execution_count": 9,
   "metadata": {},
   "outputs": [
    {
     "data": {
      "image/png": "[encoded data removed]",
      "text/plain": [
       "Plot with title \"Histogram of dat$GDP\""
      ]
     },
     "metadata": {},
     "output_type": "display_data"
    }
   ],
   "source": [
    "hist(dat$GDP)"
   ]
  },
  {
   "cell_type": "markdown",
   "metadata": {},
   "source": [
    "![](Mod3_Lab2_-_Regression_files/figure-markdown_strict/unnamed-chunk-9-1.png)\n",
    "\n",
    "GDP scores tend to range from 0-2 on this scale.\n",
    "\n",
    "What if I had a relatively low `GDP` score of say, .5? My predicted\n",
    "Happiness score would be ...\n",
    "\n",
    "> Happiness' = 3.2 + 2.18 \\* 0.5\n",
    "\n",
    "Try it yourself. What do you get as the predicted loneliness score?\n",
    "\n",
    "> Loneliness' = 4.29.\n",
    "\n",
    "Side note: there is an easy way to get R to do this for you. You simply\n",
    "use `predict()`, and input the name of your model and a `data.frame()`\n",
    "giving scores on the predictors:"
   ]
  },
  {
   "cell_type": "code",
   "execution_count": 10,
   "metadata": {},
   "outputs": [
    {
     "data": {
      "text/html": [
       "<strong>1:</strong> 4.29530515590969"
      ],
      "text/latex": [
       "\\textbf{1:} 4.29530515590969"
      ],
      "text/markdown": [
       "**1:** 4.29530515590969"
      ],
      "text/plain": [
       "       1 \n",
       "4.295305 "
      ]
     },
     "metadata": {},
     "output_type": "display_data"
    }
   ],
   "source": [
    "mod <-lm(Happiness ~ GDP, data=dat)\n",
    "\n",
    "predict(mod, data.frame(GDP=0.5))\n",
    "\n",
    "##        1 \n",
    "## 4.295305"
   ]
  },
  {
   "cell_type": "markdown",
   "metadata": {},
   "source": [
    "This is handy. We can also give it several GDP scores (0.5, 0.9, 1.7)"
   ]
  },
  {
   "cell_type": "code",
   "execution_count": 11,
   "metadata": {},
   "outputs": [
    {
     "data": {
      "text/html": [
       "<dl class=dl-horizontal>\n",
       "\t<dt>1</dt>\n",
       "\t\t<dd>4.29530515590969</dd>\n",
       "\t<dt>2</dt>\n",
       "\t\t<dd>5.16897913447573</dd>\n",
       "\t<dt>3</dt>\n",
       "\t\t<dd>6.9163270916078</dd>\n",
       "</dl>\n"
      ],
      "text/latex": [
       "\\begin{description*}\n",
       "\\item[1] 4.29530515590969\n",
       "\\item[2] 5.16897913447573\n",
       "\\item[3] 6.9163270916078\n",
       "\\end{description*}\n"
      ],
      "text/markdown": [
       "1\n",
       ":   4.295305155909692\n",
       ":   5.168979134475733\n",
       ":   6.9163270916078\n",
       "\n"
      ],
      "text/plain": [
       "       1        2        3 \n",
       "4.295305 5.168979 6.916327 "
      ]
     },
     "metadata": {},
     "output_type": "display_data"
    }
   ],
   "source": [
    "predict(mod, data.frame(GDP=c(0.5, 0.9, 1.7)))\n",
    "\n",
    "##        1        2        3 \n",
    "## 4.295305 5.168979 6.916327"
   ]
  },
  {
   "cell_type": "markdown",
   "metadata": {},
   "source": [
    "This tool is often used in the real world when you have trained a model\n",
    "using old data and want to then use it to make guesses for new data.\n",
    "It's easy to save or download a data frame with information on many new\n",
    "people and place it into `predict()`. Once the model is trained, you now\n",
    "have a valuable tool for making predictors for any new person for whom\n",
    "you have data.\n",
    "\n",
    "We can also easily visualize this relationship. Because it's simply an\n",
    "intercept and slope, the predictors form a straight line:"
   ]
  },
  {
   "cell_type": "code",
   "execution_count": 12,
   "metadata": {},
   "outputs": [
    {
     "data": {},
     "metadata": {},
     "output_type": "display_data"
    },
    {
     "data": {
      "image/png": "[encoded data removed]",
      "text/plain": [
       "plot without title"
      ]
     },
     "metadata": {},
     "output_type": "display_data"
    }
   ],
   "source": [
    "ggplot(aes(x=GDP, y=Happiness), data=dat)+\n",
    "  geom_jitter()+\n",
    "  geom_smooth(method=lm)+\n",
    "  theme_light()+\n",
    "  scale_x_continuous(name=\"GDP\")+\n",
    "  scale_y_continuous(name=\"Happiness\")"
   ]
  },
  {
   "cell_type": "markdown",
   "metadata": {},
   "source": [
    "![](Mod3_Lab2_-_Regression_files/figure-markdown_strict/unnamed-chunk-12-1.png)\n",
    "\n",
    "This represents the predictions we generated earlier (e.g., for a GDP of\n",
    "0.5, the line is at height of 0.5). The grey band represents a 95% CI\n",
    "around the line. This represents the uncertainty in the steepness of our\n",
    "slope. We are 95% confident that the \"true\" slope in the population is\n",
    "somewhere in that grey band (you can imagine the blue line swiveling a\n",
    "bit within that grey band). We can easily see the relationship is\n",
    "\"significant\" (i.e., not zero, not flat) since the most shallow line we\n",
    "could fit into that grey band is still going upward. In other words, we\n",
    "are confident that the slope *is* going upwards (i.e., is not zero). If\n",
    "we had a null hypothesis that the population slope (often symbolized\n",
    "*β*) was zero (e.g., *H*<sub>0</sub> : *β* = 0), we could reject that.\n",
    "This is more informative than simply giving us a *p*-value for the\n",
    "slope; in this case, we know the slope is not zero *and* that it is\n",
    "still pretty steep, even at is most shallow plausible value. Of course,\n",
    "we can get a *p*-value for that slope and more, which we will see in\n",
    "just a moment.\n",
    "\n",
    "Inspecting the Regression\n",
    "=========================\n",
    "\n",
    "We should check our regression in more detail, see if it satisfies\n",
    "assumptions, and see if it's a good fit to the data. To do all this, we\n",
    "first save the regression model."
   ]
  },
  {
   "cell_type": "code",
   "execution_count": 13,
   "metadata": {},
   "outputs": [],
   "source": [
    "mod <- lm(Happiness ~ GDP, data=dat)"
   ]
  },
  {
   "cell_type": "markdown",
   "metadata": {},
   "source": [
    "To get information about your regression model, we simply ask for the\n",
    "`summary()` of `mod`."
   ]
  },
  {
   "cell_type": "code",
   "execution_count": 14,
   "metadata": {},
   "outputs": [
    {
     "data": {
      "text/plain": [
       "\n",
       "Call:\n",
       "lm(formula = Happiness ~ GDP, data = dat)\n",
       "\n",
       "Residuals:\n",
       "     Min       1Q   Median       3Q      Max \n",
       "-1.88807 -0.45200 -0.05328  0.49425  1.89833 \n",
       "\n",
       "Coefficients:\n",
       "            Estimate Std. Error t value Pr(>|t|)    \n",
       "(Intercept)   3.2032     0.1356   23.62   <2e-16 ***\n",
       "GDP           2.1842     0.1267   17.24   <2e-16 ***\n",
       "---\n",
       "Signif. codes:  0 '***' 0.001 '**' 0.01 '*' 0.05 '.' 0.1 ' ' 1\n",
       "\n",
       "Residual standard error: 0.6617 on 153 degrees of freedom\n",
       "Multiple R-squared:  0.6601,\tAdjusted R-squared:  0.6579 \n",
       "F-statistic: 297.1 on 1 and 153 DF,  p-value: < 2.2e-16\n"
      ]
     },
     "metadata": {},
     "output_type": "display_data"
    }
   ],
   "source": [
    "summary(mod)\n",
    "\n",
    "## \n",
    "## Call:\n",
    "## lm(formula = Happiness ~ GDP, data = dat)\n",
    "## \n",
    "## Residuals:\n",
    "##      Min       1Q   Median       3Q      Max \n",
    "## -1.88807 -0.45200 -0.05328  0.49425  1.89833 \n",
    "## \n",
    "## Coefficients:\n",
    "##             Estimate Std. Error t value Pr(>|t|)    \n",
    "## (Intercept)   3.2032     0.1356   23.62   <2e-16 ***\n",
    "## GDP           2.1842     0.1267   17.24   <2e-16 ***\n",
    "## ---\n",
    "## Signif. codes:  0 '***' 0.001 '**' 0.01 '*' 0.05 '.' 0.1 ' ' 1\n",
    "## \n",
    "## Residual standard error: 0.6617 on 153 degrees of freedom\n",
    "## Multiple R-squared:  0.6601, Adjusted R-squared:  0.6579 \n",
    "## F-statistic: 297.1 on 1 and 153 DF,  p-value: < 2.2e-16"
   ]
  },
  {
   "cell_type": "markdown",
   "metadata": {},
   "source": [
    "First, to be clear, there are *two* parameters in the regression model:\n",
    "the intercept and the slope. Each exists in the population and we are\n",
    "estimating them in our sample.\n",
    "\n",
    "This information is found in the middle, where it says 'coefficients'.\n",
    "There are two rows, one for the intercept and one for the slope. We see.\n",
    "For our data, we estimate the intercept is 3.2032127. However, this is\n",
    "just an estimate of the \"real intercept\" in the population. There is a\n",
    "standard error, *t*-test, and *p*-value (in R, called `Pr(>|t|)`) shown.\n",
    "As we see, the intercept is significant, meaning that we are confident\n",
    "it is \"not zero.\" Of course, we don't really care about the intercept,\n",
    "but the information is there.\n",
    "\n",
    "More interesting is the slope for `GDP`. We see that the slope is\n",
    "estimated at 2.1841849. Again, that is just an estimate of the \"real\"\n",
    "slope in the population. However, we see there is a *t*-test and\n",
    "*p*-value and again, we see it is significant. (Same information given\n",
    "to us by the 95% CI \"grey band\" in the graph above). This *is* useful\n",
    "information. This tells you that you can be confident that the slope is\n",
    "\"not zero\"...in other words, `GDP` is 'predicting' `Happiness` The slope\n",
    "can also be interpreted directly. For each unit of GDP, we expect\n",
    "Happiness to change by 2.1841849 units.\n",
    "\n",
    "Maybe you want a numeric 95% CI for your regression coefficients? This\n",
    "is also easy:"
   ]
  },
  {
   "cell_type": "code",
   "execution_count": 15,
   "metadata": {},
   "outputs": [
    {
     "data": {
      "text/html": [
       "<table>\n",
       "<thead><tr><th></th><th scope=col>2.5 %</th><th scope=col>97.5 %</th></tr></thead>\n",
       "<tbody>\n",
       "\t<tr><th scope=row>(Intercept)</th><td>2.935283</td><td>3.471143</td></tr>\n",
       "\t<tr><th scope=row>GDP</th><td>1.933859</td><td>2.434511</td></tr>\n",
       "</tbody>\n",
       "</table>\n"
      ],
      "text/latex": [
       "\\begin{tabular}{r|ll}\n",
       "  & 2.5 \\% & 97.5 \\%\\\\\n",
       "\\hline\n",
       "\t(Intercept) & 2.935283 & 3.471143\\\\\n",
       "\tGDP & 1.933859 & 2.434511\\\\\n",
       "\\end{tabular}\n"
      ],
      "text/markdown": [
       "\n",
       "| <!--/--> | 2.5 % | 97.5 % | \n",
       "|---|---|\n",
       "| (Intercept) | 2.935283 | 3.471143 | \n",
       "| GDP | 1.933859 | 2.434511 | \n",
       "\n",
       "\n"
      ],
      "text/plain": [
       "            2.5 %    97.5 %  \n",
       "(Intercept) 2.935283 3.471143\n",
       "GDP         1.933859 2.434511"
      ]
     },
     "metadata": {},
     "output_type": "display_data"
    }
   ],
   "source": [
    "confint(mod)\n",
    "\n",
    "##                2.5 %   97.5 %\n",
    "## (Intercept) 2.935283 3.471143\n",
    "## GDP         1.933859 2.434511"
   ]
  },
  {
   "cell_type": "markdown",
   "metadata": {},
   "source": [
    "(Those values represent 95% CIs... from '2.5% to 97.5%' is a range of\n",
    "95%).\n",
    "\n",
    "There are many other pieces of information one can get from the model.\n",
    "For example, we can find the predicted values with `fitted(mod)` or\n",
    "`mod$fitted`. We can extract the slopes with `coef(mod)` or\n",
    "`mod$coefficients`. The number of things we can easily do is too great\n",
    "to go into detail here, but as a general rule, if there is something you\n",
    "want to know about this regression model, we can probably get it easily.\n",
    "The names of all the things you can get can be given with `names()`.\n",
    "Note that there is different information for a regression if you ask for\n",
    "the `names()` of the model versus the `names()` of the `summary()` of\n",
    "the model:"
   ]
  },
  {
   "cell_type": "code",
   "execution_count": 16,
   "metadata": {},
   "outputs": [
    {
     "data": {
      "text/html": [
       "<ol class=list-inline>\n",
       "\t<li>'coefficients'</li>\n",
       "\t<li>'residuals'</li>\n",
       "\t<li>'effects'</li>\n",
       "\t<li>'rank'</li>\n",
       "\t<li>'fitted.values'</li>\n",
       "\t<li>'assign'</li>\n",
       "\t<li>'qr'</li>\n",
       "\t<li>'df.residual'</li>\n",
       "\t<li>'xlevels'</li>\n",
       "\t<li>'call'</li>\n",
       "\t<li>'terms'</li>\n",
       "\t<li>'model'</li>\n",
       "</ol>\n"
      ],
      "text/latex": [
       "\\begin{enumerate*}\n",
       "\\item 'coefficients'\n",
       "\\item 'residuals'\n",
       "\\item 'effects'\n",
       "\\item 'rank'\n",
       "\\item 'fitted.values'\n",
       "\\item 'assign'\n",
       "\\item 'qr'\n",
       "\\item 'df.residual'\n",
       "\\item 'xlevels'\n",
       "\\item 'call'\n",
       "\\item 'terms'\n",
       "\\item 'model'\n",
       "\\end{enumerate*}\n"
      ],
      "text/markdown": [
       "1. 'coefficients'\n",
       "2. 'residuals'\n",
       "3. 'effects'\n",
       "4. 'rank'\n",
       "5. 'fitted.values'\n",
       "6. 'assign'\n",
       "7. 'qr'\n",
       "8. 'df.residual'\n",
       "9. 'xlevels'\n",
       "10. 'call'\n",
       "11. 'terms'\n",
       "12. 'model'\n",
       "\n",
       "\n"
      ],
      "text/plain": [
       " [1] \"coefficients\"  \"residuals\"     \"effects\"       \"rank\"         \n",
       " [5] \"fitted.values\" \"assign\"        \"qr\"            \"df.residual\"  \n",
       " [9] \"xlevels\"       \"call\"          \"terms\"         \"model\"        "
      ]
     },
     "metadata": {},
     "output_type": "display_data"
    },
    {
     "data": {
      "text/html": [
       "<ol class=list-inline>\n",
       "\t<li>'call'</li>\n",
       "\t<li>'terms'</li>\n",
       "\t<li>'residuals'</li>\n",
       "\t<li>'coefficients'</li>\n",
       "\t<li>'aliased'</li>\n",
       "\t<li>'sigma'</li>\n",
       "\t<li>'df'</li>\n",
       "\t<li>'r.squared'</li>\n",
       "\t<li>'adj.r.squared'</li>\n",
       "\t<li>'fstatistic'</li>\n",
       "\t<li>'cov.unscaled'</li>\n",
       "</ol>\n"
      ],
      "text/latex": [
       "\\begin{enumerate*}\n",
       "\\item 'call'\n",
       "\\item 'terms'\n",
       "\\item 'residuals'\n",
       "\\item 'coefficients'\n",
       "\\item 'aliased'\n",
       "\\item 'sigma'\n",
       "\\item 'df'\n",
       "\\item 'r.squared'\n",
       "\\item 'adj.r.squared'\n",
       "\\item 'fstatistic'\n",
       "\\item 'cov.unscaled'\n",
       "\\end{enumerate*}\n"
      ],
      "text/markdown": [
       "1. 'call'\n",
       "2. 'terms'\n",
       "3. 'residuals'\n",
       "4. 'coefficients'\n",
       "5. 'aliased'\n",
       "6. 'sigma'\n",
       "7. 'df'\n",
       "8. 'r.squared'\n",
       "9. 'adj.r.squared'\n",
       "10. 'fstatistic'\n",
       "11. 'cov.unscaled'\n",
       "\n",
       "\n"
      ],
      "text/plain": [
       " [1] \"call\"          \"terms\"         \"residuals\"     \"coefficients\" \n",
       " [5] \"aliased\"       \"sigma\"         \"df\"            \"r.squared\"    \n",
       " [9] \"adj.r.squared\" \"fstatistic\"    \"cov.unscaled\" "
      ]
     },
     "metadata": {},
     "output_type": "display_data"
    }
   ],
   "source": [
    "names(mod)\n",
    "\n",
    "##  [1] \"coefficients\"  \"residuals\"     \"effects\"       \"rank\"         \n",
    "##  [5] \"fitted.values\" \"assign\"        \"qr\"            \"df.residual\"  \n",
    "##  [9] \"xlevels\"       \"call\"          \"terms\"         \"model\"\n",
    "\n",
    "names(summary(mod))\n",
    "\n",
    "##  [1] \"call\"          \"terms\"         \"residuals\"     \"coefficients\" \n",
    "##  [5] \"aliased\"       \"sigma\"         \"df\"            \"r.squared\"    \n",
    "##  [9] \"adj.r.squared\" \"fstatistic\"    \"cov.unscaled\""
   ]
  },
  {
   "cell_type": "markdown",
   "metadata": {},
   "source": [
    "Now, we are predicting each region's happiness. How accurate are those\n",
    "predictions? To answer that, we need to discuss residuals.\n",
    "\n",
    "We see in our graph that not every point is on the line. In other words,\n",
    "our trend line under-predicts for some and over-predicts for others. The\n",
    "degree of \"mis-prediction\" for each observation is called a residual. We\n",
    "can plot them easily in `ggplot2` by adding a `geom_segment()` and\n",
    "asking for lines to be drawn between observed scores(`dat$GDP`) and\n",
    "predicted scores(`mod$fitted`):"
   ]
  },
  {
   "cell_type": "code",
   "execution_count": 17,
   "metadata": {},
   "outputs": [
    {
     "data": {},
     "metadata": {},
     "output_type": "display_data"
    },
    {
     "data": {
      "image/png": "[encoded data removed]",
      "text/plain": [
       "plot without title"
      ]
     },
     "metadata": {},
     "output_type": "display_data"
    }
   ],
   "source": [
    "ggplot(aes(x=GDP, y=Happiness), data=dat)+\n",
    "  geom_jitter()+\n",
    "  geom_smooth(method=lm)+\n",
    "  geom_segment(aes(xend = dat$GDP, yend = mod$fitted), alpha=.3)+\n",
    "  theme_light()+\n",
    "  scale_x_continuous(name=\"GDP\")+\n",
    "  scale_y_continuous(name=\"Happiness\")"
   ]
  },
  {
   "cell_type": "markdown",
   "metadata": {},
   "source": [
    "![](Mod3_Lab2_-_Regression_files/figure-markdown_strict/unnamed-chunk-17-1.png)\n",
    "\n",
    "On average, these residuals look to be about 1.0 points or so in length.\n",
    "\n",
    "However, we can compute the \"residual standard error\" which is basically\n",
    "the \"average residual.\" Some books call this the \"standard error of the\n",
    "estimate.\" It is essentially the same idea as the standard deviation:\n",
    "assessing the average degree to which points vary *aroudn the line* (as\n",
    "opposed to varying around the mean, in standard deviation). In fact, it\n",
    "uses the same equation as the standard deviation, but modified so scores\n",
    "vary around the predicted value (y' ... the line) rather than the mean.\n",
    "Also, we use \"n-2\" on the bottom for reasons I won't get into:\n",
    "\n",
    "$$ RSE = \\sqrt{\\frac{\\sum \\left ( y-y' \\right )^{2}}{n-2}} $$\n",
    "\n",
    "We see in our our output, \"Residual standard error: 0.6617\", meaning our\n",
    "`Happiness` predictions are \"off\" (on average) by 0.66 points. Given\n",
    "that the scale is basically 2-7 (ish), this seems pretty good. Of\n",
    "course, we are *only* using `GDP` to predict scores right now. We could\n",
    "add other predictors and attempt to make this value smaller (i.e.,\n",
    "become more accurate in our predictions).\n",
    "\n",
    "Let's continue exploring our summary output. Residuals are important.\n",
    "More information about our residuals can be seen up top: the smallest\n",
    "residual, 1Q (the 25th percentile), the median (the 50th percentile), 3Q\n",
    "(the 75th percentile), and max. This will come in much handier later.\n",
    "The median residual is close to zero...that is very important because it\n",
    "means we are not systematically over-predicting or under-predicting\n",
    "(phew!). Also importantly, one assumption of a *valid* regression model\n",
    "is that the regressions are *normally distributed*. Of course, in a\n",
    "normal distribution, the data are symmetrical, so the lower values (1Q)\n",
    "should mirror the top values (3Q). We could also simply histogram them:"
   ]
  },
  {
   "cell_type": "code",
   "execution_count": 18,
   "metadata": {},
   "outputs": [
    {
     "data": {
      "image/png": "[encoded data removed]",
      "text/plain": [
       "Plot with title \"Histogram of mod$residuals\""
      ]
     },
     "metadata": {},
     "output_type": "display_data"
    }
   ],
   "source": [
    "hist(mod$residuals)"
   ]
  },
  {
   "cell_type": "markdown",
   "metadata": {},
   "source": [
    "![](Mod3_Lab2_-_Regression_files/figure-markdown_strict/unnamed-chunk-18-1.png)\n",
    "\n",
    "These residuals are beautifully normally distributed. This is a good\n",
    "sign for our model. This means that we tend to under-predict (negative\n",
    "values) just as much as we over-predict (positive values). This looks\n",
    "like a healthy and valid regression model.\n",
    "\n",
    "Finally, we see that the \"Multiple R squared\" is .66. I won't go into\n",
    "the math behind that, but it essentially represents the proportion of\n",
    "the variance in the outcome (`Happiness`) that is explained by the\n",
    "predictor(s). In other words, we have explained 66% of all the variance\n",
    "in `Happiness` with just `GDP`. That further reinforces our conclusion\n",
    "that GDP is a very strong predictor of happiness. Related to the\n",
    "Multiple R squared is a bit more information:\n",
    "`F-statistic: 297.1 on 1 and 153 DF,  p-value: < 2.2e-16` ... this is\n",
    "simply a significance test for the *R*<sup>2</sup> value. We see here\n",
    "that our model *is* explaining significant variation in happiness. On\n",
    "level, this is redundant to the test of significance for the slope, but\n",
    "it because very helpful when there are multiple predictors as a quick\n",
    "snapshot of the significance of the model.\n",
    "\n",
    "It's worth noting that the *R*<sup>2</sup> is, basically, the opposite\n",
    "of the residuals. The residuals represent *unexplained* variation in the\n",
    "happiness (Y) scores. That is, one region's happiness score may 7, yet\n",
    "we predict 6 (a residual of -1). This represents some portion of the\n",
    "score we have not yet explained. On the other hand, the *R*<sup>2</sup>\n",
    "represents the proportion of variation in `Happiness` that **is\n",
    "explained.** The better our model, the higher the *R*<sup>2</sup> and\n",
    "the smaller the residuals. If we could make our residuals zero (i.e.,\n",
    "perfectly guess every score), our *R*<sup>2</sup> would be 100% (1.00).\n",
    "\n",
    "I bring this up only because I think it's useful to understand what\n",
    "these numbers mean. When our goal is *understanding* our variables, then\n",
    "this information is very important. We are saying we can understand 66%\n",
    "of what there is to know about happiness with GDP alone.\n",
    "\n",
    "Multiple Regression\n",
    "===================\n",
    "\n",
    "We can improve our predictions by adding more predictors. There are\n",
    "three reasons to do this.\n",
    "\n",
    "1.  Our model predicts better given more information to predict with\n",
    "2.  GDP may be caused by (and therefore serve as a proxy for) other\n",
    "    variables that are more directly relevant\n",
    "3.  GDP probably doesn't make people happy directly; it is likely\n",
    "    causing other things like healthcare that are more directly relevant\n",
    "\n",
    "Reasons 2 and 3 are very similar, but they differ in an important way.\n",
    "Reason 2 suggests that something may be driving *both* GDP *and*\n",
    "happiness. We discussed this possibility in the labs for association /\n",
    "causal claims. In that case, GDP is acting as a proxy for whatever that\n",
    "prior cause was...leading us to possibly misunderstand the role of GDP.\n",
    "We must statistically control for any prior causes if we want a good\n",
    "view of what effect GDP has on happiness (and even then, we can't know\n",
    "whether GDP is the cause or the effect).\n",
    "\n",
    "Reason 3, on the other hand, suggests that GDP may do things that, in\n",
    "turn, help happiness. For example, GDP may lead to better health, and\n",
    "that may aid happiness. In this case, we can still still control for\n",
    "those variables. Doing so will give \"credit\" for that relationship to\n",
    "the more proximal variable (i.e., it will appear that health, not GDP\n",
    "predicts happiness). In such a case, we should try to remember that GDP\n",
    "may still be ultimately responsible.\n",
    "\n",
    "Note that there is no way to tell the difference, statistically between\n",
    "reason 2 and 3. Thus, the data analysis needs subject matter expertise\n",
    "to draw good conclusions for observational (i.e., correlation /\n",
    "regression based) data.\n",
    "\n",
    "#### Controlling Prior Causes\n",
    "\n",
    "Reason 2 suggests that GDP may be caused by other things and that *those\n",
    "things*, not GDP are causing happiness. In such a case, failure to\n",
    "statistically adjust or control for them makes our regression is\n",
    "misleading, attributing to GDP what should rightly be attributed to\n",
    "those prior causes. For example, imagine that GDP was caused, in part,\n",
    "by freedom. In that case, we can't rightly examine the role of GDP\n",
    "without first *controlling* for freedom. Failure to do so will\n",
    "misrepresent what GDP is doing, likely inflating its importance.\n",
    "\n",
    "Importantly, however, you can easily control for a third (or fourth,\n",
    "fifth, or any number) of variables. To do so, you simply add them as\n",
    "other predictors in the regression. One very helpful feature of\n",
    "regression is that every variable is examined *controlling for / holding\n",
    "constnant all the others*, so regression lets you see the *unique*\n",
    "influence of each predictor. In other words, it lets you see what the\n",
    "slope for each predictor would be, had participants had the same score\n",
    "on all the other predictors. **Importnat: this only works if you thought\n",
    "ahead and measured every variable you need to control for**. This is one\n",
    "reason why I advocate for collecting data and not simply relying on\n",
    "existing data repositories. You may very well need to control for a\n",
    "variable that you don't have! However, if we think ahead, we can attempt\n",
    "to measure any variable we might want to control for.\n",
    "\n",
    "Let's try it, controlling for freedom:"
   ]
  },
  {
   "cell_type": "code",
   "execution_count": 19,
   "metadata": {},
   "outputs": [
    {
     "data": {
      "text/plain": [
       "\n",
       "Call:\n",
       "lm(formula = Happiness ~ GDP + Freedom, data = dat)\n",
       "\n",
       "Residuals:\n",
       "    Min      1Q  Median      3Q     Max \n",
       "-2.0725 -0.3726  0.0772  0.3475  1.3592 \n",
       "\n",
       "Coefficients:\n",
       "            Estimate Std. Error t value Pr(>|t|)    \n",
       "(Intercept)   2.5461     0.1502  16.955  < 2e-16 ***\n",
       "GDP           1.8736     0.1187  15.788  < 2e-16 ***\n",
       "Freedom       2.3557     0.3329   7.076 5.09e-11 ***\n",
       "---\n",
       "Signif. codes:  0 '***' 0.001 '**' 0.01 '*' 0.05 '.' 0.1 ' ' 1\n",
       "\n",
       "Residual standard error: 0.5757 on 152 degrees of freedom\n",
       "Multiple R-squared:  0.7443,\tAdjusted R-squared:  0.741 \n",
       "F-statistic: 221.3 on 2 and 152 DF,  p-value: < 2.2e-16\n"
      ]
     },
     "metadata": {},
     "output_type": "display_data"
    }
   ],
   "source": [
    "mod2 <- lm(Happiness ~ GDP + Freedom, data=dat)\n",
    "summary(mod2)\n",
    "\n",
    "## \n",
    "## Call:\n",
    "## lm(formula = Happiness ~ GDP + Freedom, data = dat)\n",
    "## \n",
    "## Residuals:\n",
    "##     Min      1Q  Median      3Q     Max \n",
    "## -2.0725 -0.3726  0.0772  0.3475  1.3592 \n",
    "## \n",
    "## Coefficients:\n",
    "##             Estimate Std. Error t value Pr(>|t|)    \n",
    "## (Intercept)   2.5461     0.1502  16.955  < 2e-16 ***\n",
    "## GDP           1.8736     0.1187  15.788  < 2e-16 ***\n",
    "## Freedom       2.3557     0.3329   7.076 5.09e-11 ***\n",
    "## ---\n",
    "## Signif. codes:  0 '***' 0.001 '**' 0.01 '*' 0.05 '.' 0.1 ' ' 1\n",
    "## \n",
    "## Residual standard error: 0.5757 on 152 degrees of freedom\n",
    "## Multiple R-squared:  0.7443, Adjusted R-squared:  0.741 \n",
    "## F-statistic: 221.3 on 2 and 152 DF,  p-value: < 2.2e-16"
   ]
  },
  {
   "cell_type": "markdown",
   "metadata": {},
   "source": [
    "First, our residual standard error (average misprediction) has decreased\n",
    "some and our *R*<sup>2</sup> has increased. That tells us we have\n",
    "\"added\" to our ability to predict happiness. As a side note, you can\n",
    "test whether that increase is significant with 'anova(mod, mod2)\\`:"
   ]
  },
  {
   "cell_type": "code",
   "execution_count": 20,
   "metadata": {},
   "outputs": [
    {
     "data": {
      "text/html": [
       "<table>\n",
       "<thead><tr><th scope=col>Res.Df</th><th scope=col>RSS</th><th scope=col>Df</th><th scope=col>Sum of Sq</th><th scope=col>F</th><th scope=col>Pr(&gt;F)</th></tr></thead>\n",
       "<tbody>\n",
       "\t<tr><td>153         </td><td>66.98334    </td><td>NA          </td><td>      NA    </td><td>     NA     </td><td>          NA</td></tr>\n",
       "\t<tr><td>152         </td><td>50.38594    </td><td> 1          </td><td>16.59739    </td><td>50.0696     </td><td>5.094782e-11</td></tr>\n",
       "</tbody>\n",
       "</table>\n"
      ],
      "text/latex": [
       "\\begin{tabular}{r|llllll}\n",
       " Res.Df & RSS & Df & Sum of Sq & F & Pr(>F)\\\\\n",
       "\\hline\n",
       "\t 153          & 66.98334     & NA           &       NA     &      NA      &           NA\\\\\n",
       "\t 152          & 50.38594     &  1           & 16.59739     & 50.0696      & 5.094782e-11\\\\\n",
       "\\end{tabular}\n"
      ],
      "text/markdown": [
       "\n",
       "Res.Df | RSS | Df | Sum of Sq | F | Pr(>F) | \n",
       "|---|---|\n",
       "| 153          | 66.98334     | NA           |       NA     |      NA      |           NA | \n",
       "| 152          | 50.38594     |  1           | 16.59739     | 50.0696      | 5.094782e-11 | \n",
       "\n",
       "\n"
      ],
      "text/plain": [
       "  Res.Df RSS      Df Sum of Sq F       Pr(>F)      \n",
       "1 153    66.98334 NA       NA       NA           NA\n",
       "2 152    50.38594  1 16.59739  50.0696 5.094782e-11"
      ]
     },
     "metadata": {},
     "output_type": "display_data"
    }
   ],
   "source": [
    "anova(mod, mod2)\n",
    "\n",
    "## Analysis of Variance Table\n",
    "## \n",
    "## Model 1: Happiness ~ GDP\n",
    "## Model 2: Happiness ~ GDP + Freedom\n",
    "##   Res.Df    RSS Df Sum of Sq     F    Pr(>F)    \n",
    "## 1    153 66.983                                 \n",
    "## 2    152 50.386  1    16.597 50.07 5.095e-11 ***\n",
    "## ---\n",
    "## Signif. codes:  0 '***' 0.001 '**' 0.01 '*' 0.05 '.' 0.1 ' ' 1"
   ]
  },
  {
   "cell_type": "markdown",
   "metadata": {},
   "source": [
    "This runs an *F* test with a significant result (*p*-value is `Pr(>F)`,\n",
    "i.e., less than .05). This tells us that adding health/life expectancy\n",
    "*significantly* (i.e., greater than chance) improved our prediction of\n",
    "happiness. The *R*<sup>2</sup> value went up by 0.0864 (i.e., 8.6%, mod:\n",
    "0.6579, mod2: 0.7443) so we have explained an additional 8.6% of\n",
    "happiness.\n",
    "\n",
    "Our new regression equation is:\n",
    "\n",
    "> Happiness' = 2.55 + 1.87(GDP) + 2.36(Freedom).\n",
    "\n",
    "The real action is in the slopes of the model, however. First, we can\n",
    "see that the slope for GDP is still significant as is now the slope for\n",
    "freedom (*p* values in far right column of the summary output). That\n",
    "tells us we can be confident that, to some degree, they each predict\n",
    "happiness *with the other controlled*. In other words, it is not the\n",
    "case that the role of GDP is actually all due to freedom or vice versa.\n",
    "Each has some *unique* or independent relationship with happiness.\n",
    "\n",
    "However, we also do see that the slope for GDP went down. It was\n",
    "originally 2.184 and is now 1.874, a difference of 0.31. If\n",
    "we take that as a fraction of the original slope,\n",
    "$\\frac{0.31}{2.184} = .14$, we see that our slope has gone down\n",
    "by 14%. In other words, 14% of what we had previously attributed to GDP\n",
    "we can now actually attribute to freedom. This shows just how important\n",
    "it is to control for things: we were seriously overestimating the\n",
    "importance of GDP.\n",
    "\n",
    "This illustrates the importance of having the correct statistical\n",
    "controls in your study. We could easily imagine relationships that could\n",
    "be reduced to zero when the necessary variables are controlled. If we\n",
    "want to measure, as best we can, the impact of a predictor on the\n",
    "outcome it is a **requirement** that we control for any possible hidden\n",
    "drivers of your predictor that might *actually* be responsible for your\n",
    "outcome. Thus, in this case, we might think of any *other* variables\n",
    "that might lead to *both* higher GDP and greater national happiness.\n",
    "Freedom is one, but we cannot draw a sound conclusions without seriously\n",
    "thinking through and controlling for any others.\n",
    "\n",
    "This brings up a *central* reason why organizations should conduct\n",
    "research and not merely rely on existing data. In existing data sets,\n",
    "you are tempted to draw conclusions on the basis of the data you have,\n",
    "not the data you don't have. Yet, we see here, the data you don't have\n",
    "could be necessary as a statistical control. Without that, how can we\n",
    "really know that it is GDP, and not some other prior cause of GDP that\n",
    "is driving up happiness? It is very important to seriously consider what\n",
    "variables might be causing *both* your predictor and your outcome; if\n",
    "these are not statistically controlled, then false conclusions are\n",
    "possible.\n",
    "\n",
    "#### Standardized Slopes\n",
    "\n",
    "At this point, you might also be interested in which variable is the\n",
    "stronger predictor. Unfortunately, the slopes are entirely dependent on\n",
    "the units measured.\n",
    "\n",
    "However, we can standardize them, putting them on the same scale so they\n",
    "can be directly compared. This is done by taking each slope and\n",
    "multiplying it by the ratio of the standard deviations:\n",
    "\n",
    "$$b = \\frac{SD\\_x}{SD\\_y}$$\n",
    "\n",
    "\n",
    "Functionally, this changes nothing. **It only changes the units.** For\n",
    "example, the slope for freedom was originally 2.3557. This means that\n",
    "happiness is expected to increase 2.3557 *units* per *unit* of freedom.\n",
    "If we multiply by standard deviations, however, the units become\n",
    "standard deviations:"
   ]
  },
  {
   "cell_type": "code",
   "execution_count": 21,
   "metadata": {},
   "outputs": [
    {
     "data": {
      "text/html": [
       "0.696937985875746"
      ],
      "text/latex": [
       "0.696937985875746"
      ],
      "text/markdown": [
       "0.696937985875746"
      ],
      "text/plain": [
       "[1] 0.696938"
      ]
     },
     "metadata": {},
     "output_type": "display_data"
    }
   ],
   "source": [
    "1.8736 * sd(dat$GDP) / sd(dat$Happiness)\n",
    "\n",
    "## [1] 0.696938"
   ]
  },
  {
   "cell_type": "markdown",
   "metadata": {},
   "source": [
    "We immediately see that GDP has a much larger estimated effect than\n",
    "freedom. At least in our sample data, the wealth of a region is more\n",
    "important for its happiness than its freedom (the difference between\n",
    "slopes can also be tested for significance, ideally with something\n",
    "called bootstrapping, but we will not explore that now).\n",
    "\n",
    "If you don't wish to calculate standardized slopes manually, the\n",
    "`lm.beta` package has a function called `lm.beta()`. Instead of\n",
    "requesting `summary(model)`, you request \\`summary(lm.beta(model)) and a\n",
    "column of standardized slopes is given to you."
   ]
  },
  {
   "cell_type": "code",
   "execution_count": 22,
   "metadata": {},
   "outputs": [
    {
     "data": {
      "text/plain": [
       "\n",
       "Call:\n",
       "lm(formula = Happiness ~ GDP + Freedom, data = dat)\n",
       "\n",
       "Residuals:\n",
       "    Min      1Q  Median      3Q     Max \n",
       "-2.0725 -0.3726  0.0772  0.3475  1.3592 \n",
       "\n",
       "Coefficients:\n",
       "            Estimate Standardized Std. Error t value Pr(>|t|)    \n",
       "(Intercept)   2.5461       0.0000     0.1502  16.955  < 2e-16 ***\n",
       "GDP           1.8736       0.6969     0.1187  15.788  < 2e-16 ***\n",
       "Freedom       2.3557       0.3124     0.3329   7.076 5.09e-11 ***\n",
       "---\n",
       "Signif. codes:  0 '***' 0.001 '**' 0.01 '*' 0.05 '.' 0.1 ' ' 1\n",
       "\n",
       "Residual standard error: 0.5757 on 152 degrees of freedom\n",
       "Multiple R-squared:  0.7443,\tAdjusted R-squared:  0.741 \n",
       "F-statistic: 221.3 on 2 and 152 DF,  p-value: < 2.2e-16\n"
      ]
     },
     "metadata": {},
     "output_type": "display_data"
    }
   ],
   "source": [
    "summary(lm.beta(mod2))\n",
    "\n",
    "## \n",
    "## Call:\n",
    "## lm(formula = Happiness ~ GDP + Freedom, data = dat)\n",
    "## \n",
    "## Residuals:\n",
    "##     Min      1Q  Median      3Q     Max \n",
    "## -2.0725 -0.3726  0.0772  0.3475  1.3592 \n",
    "## \n",
    "## Coefficients:\n",
    "##             Estimate Standardized Std. Error t value Pr(>|t|)    \n",
    "## (Intercept)   2.5461       0.0000     0.1502  16.955  < 2e-16 ***\n",
    "## GDP           1.8736       0.6969     0.1187  15.788  < 2e-16 ***\n",
    "## Freedom       2.3557       0.3124     0.3329   7.076 5.09e-11 ***\n",
    "## ---\n",
    "## Signif. codes:  0 '***' 0.001 '**' 0.01 '*' 0.05 '.' 0.1 ' ' 1\n",
    "## \n",
    "## Residual standard error: 0.5757 on 152 degrees of freedom\n",
    "## Multiple R-squared:  0.7443, Adjusted R-squared:  0.741 \n",
    "## F-statistic: 221.3 on 2 and 152 DF,  p-value: < 2.2e-16"
   ]
  },
  {
   "cell_type": "markdown",
   "metadata": {},
   "source": [
    "The standardized slopes are added just to the right of the original\n",
    "slopes.\n",
    "\n",
    "We now have the tools we need to begin to understand our data. Using\n",
    "multiple regression, I can examine the relationships between any\n",
    "variables, controlling for any number of others. If I want to be able to\n",
    "assess what variables are the most important predictors, standardized\n",
    "slopes offer an easy solution (they are often comparable to correlations\n",
    "as well, providing a rough mental guide for interpreting them).\n",
    "\n",
    "#### Assumptions of Regression\n",
    "\n",
    "There are a few important assumptions and caveats you should know. Seven\n",
    "key assumptions are:\n",
    "\n",
    "Our assumptions are:\n",
    "\n",
    "1.  Linear model is appropriate\n",
    "2.  Homoskedasticity\n",
    "3.  Observations are independent\n",
    "4.  Our residuals must be normally distributed\n",
    "5.  Our residuals should have a mean of zero\n",
    "6.  The model is correctly specified\n",
    "7.  Multicollinearity is not a problem\n",
    "\n",
    "**Assumption 1**, is a linear model appropriate? Well, do we have good\n",
    "reason to suspect a non-linear relationship between GDP and happiness?\n",
    "In this case, I have no theoretical or evidence based reason to think\n",
    "otherwise. However, obviously, a linear model (i.e., a \"straight line\"\n",
    "regression) would not make sense if the data were not a straight line.\n",
    "\n",
    "Note that there are a few cases where this *IS* violated.\n",
    "\n",
    "1.  If your y-variable has only two levels (e.g., \"purchased product,\n",
    "    did not purchase product\"), then a linear model is not appropriate\n",
    "    (we use something called *logistic regression*). There are similar\n",
    "    extensions for variables with several categories.\n",
    "\n",
    "2.  Another common case is if your y-variable is a \"count\" of something\n",
    "    (e.g., how many pairs of shoes do people have?). In that case,\n",
    "    negative numbers are impossible, and any slopes will need to \"bend\"\n",
    "    as they approach the x-axis so they don't cross it. There are\n",
    "    \"count\" models for that. We won't learn them, but you could if you\n",
    "    needed to.\n",
    "\n",
    "3.  Math allows for any shape of line; for similar reasons, we can make\n",
    "    a regression line into any shape (not covered here). A word of\n",
    "    caution: the more complex a model, the more likely it is to be a\n",
    "    \"false positive\" finding. Beware making models too complex on the\n",
    "    basis of your data. Usually, simpler models are more correct unless\n",
    "    you have good reason to make it non-linear.\n",
    "\n",
    "**Assumption 2**, homoskedasicity. Briefly, this means that the\n",
    "residuals are the same all the way up and down the line. This is\n",
    "violated if residuals are really small at one end (line fits great) and\n",
    "really big at the other (line fits awful). Without going into detail,\n",
    "the *p*-values for the slopes use the residuals in the equations. If the\n",
    "residuals vary systematically throughout the graph, that's a problem.\n",
    "Look at the residuals plot above, however, and we see they seem roughly\n",
    "uniform up and down the line. We're fine.\n",
    "\n",
    "**Assumption 3**, our observations are independent. That is, our data\n",
    "points didn't influence each other. This would be a problem, for\n",
    "example, if our data included the same regions over a multi-year period.\n",
    "The 2016 happiness score and the 2017 happiness score for a region will\n",
    "be similar because it's the same region. This influences the residuals,\n",
    "and in turn, the *p*-values in a problematic way. *Violating this\n",
    "assumption tends to make your findings **more** significant* so it's\n",
    "good to account for any kind of \"nesting\" substructure.\n",
    "\n",
    "Having multiple data points on the same observation is one common way\n",
    "you can violate this assumption, but other kinds of nesting might as\n",
    "well. For example, data may be nested within stores in a way we might\n",
    "want to account for. In such a case, a *linear mixed model* is often\n",
    "better and simply extends the regression somewhat to account for the\n",
    "nesting.\n",
    "\n",
    "**Assumption 4 + 5,** our residuals must be normally distributed and\n",
    "with a mean of zero. We can briefly check this with a histogram:"
   ]
  },
  {
   "cell_type": "code",
   "execution_count": 23,
   "metadata": {},
   "outputs": [
    {
     "data": {
      "image/png": "[encoded data removed]",
      "text/plain": [
       "Plot with title \"Histogram of mod2$residuals\""
      ]
     },
     "metadata": {},
     "output_type": "display_data"
    }
   ],
   "source": [
    "hist(mod2$residuals)"
   ]
  },
  {
   "cell_type": "markdown",
   "metadata": {},
   "source": [
    "![](Mod3_Lab2_-_Regression_files/figure-markdown_strict/unnamed-chunk-23-1.png)\n",
    "\n",
    "It's roughly normal. We can check the mean:"
   ]
  },
  {
   "cell_type": "code",
   "execution_count": 24,
   "metadata": {},
   "outputs": [
    {
     "data": {
      "text/html": [
       "-4.72719142056406e-17"
      ],
      "text/latex": [
       "-4.72719142056406e-17"
      ],
      "text/markdown": [
       "-4.72719142056406e-17"
      ],
      "text/plain": [
       "[1] -4.727191e-17"
      ]
     },
     "metadata": {},
     "output_type": "display_data"
    }
   ],
   "source": [
    "#mean is almost zero\n",
    "mean(mod$residuals)\n",
    "\n",
    "## [1] -4.727191e-17"
   ]
  },
  {
   "cell_type": "markdown",
   "metadata": {},
   "source": [
    "It has some skew, but it's not terrible.\n",
    "\n",
    "**The normality of residuals tends to be violated if the outcome\n",
    "(y-variable) is skewed**. There are other kinds of regressions for\n",
    "highly skewed outcome variables; there are also transformations that can\n",
    "be done to the outcome variable to make it more normal. We explored such\n",
    "transformations in the previous lab, but such a transformation is not\n",
    "needed here.\n",
    "\n",
    "**Assumption 6** states that we have included all the causes of our\n",
    "outcome in the model. Although impossible in practice, we can reasonably\n",
    "think through what variables we need to control for when running our\n",
    "regression.\n",
    "\n",
    "Now you see something important: to do regression analysis well, you\n",
    "need to understand the subject area. You need to know what to control\n",
    "for *before* the data are collected.\n",
    "\n",
    "**Assumption 7** states that multicollinearity is not a problem.\n",
    "\n",
    "Briefly, when you control for a variable (e.g., looking at GDP and\n",
    "happiness, controlling for freedom), you can cause a problem called\n",
    "multicollinearity.\n",
    "\n",
    "Consider the following situation: you want to assess the role of annual\n",
    "salary on employee engagement, controlling for monthly salary.\n",
    "Hopefully, you think that's a crazy idea because the predictor and\n",
    "control variables are redundant. It's completely nonsensical. What would\n",
    "it even mean to examine the role of your annual salary, holding your\n",
    "monthly salary constant? There would be \"nothing left\" to annual salary\n",
    "after we statistically hold monthly salary constant.\n",
    "\n",
    "Similarly, there are a lot of highly overlapping variables in research\n",
    "contexts. Imagine a survey asking customers how 'angry' they are and how\n",
    "'upset' they are after receiving poor service. Angry people are upset.\n",
    "Upset people feel angry. They're very similar. Conceptually, if you\n",
    "tried to examine anger with 'upset' controlled, you are going to remove\n",
    "a lot of the meaning in the anger variable, and vice versa. Will there\n",
    "be enough \"left\" to make a reasonable regression?\n",
    "\n",
    "When predictors overlap (correlate) too much among each other, they\n",
    "become useless. In general, it's good to avoid having high correlations\n",
    "among predictors, *r* = .80, *r* = .90, etc.). The slopes can act oddly\n",
    "in such cases, even reversing directions."
   ]
  }
 ],
 "metadata": {
  "kernelspec": {
   "display_name": "R",
   "language": "R",
   "name": "ir"
  },
  "language_info": {
   "codemirror_mode": "r",
   "file_extension": ".r",
   "mimetype": "text/x-r-source",
   "name": "R",
   "pygments_lexer": "r",
   "version": "3.5.0"
  }
 },
 "nbformat": 4,
 "nbformat_minor": 2
}
