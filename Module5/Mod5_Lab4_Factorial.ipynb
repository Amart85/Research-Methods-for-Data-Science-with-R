{
 "cells": [
  {
   "cell_type": "markdown",
   "metadata": {},
   "source": [
    "Module 5, Lab 4 - Factorial Designs\n",
    "===================================\n",
    "\n",
    "In this lab, we will explore the factorial experiment. I analyze the\n",
    "data from the previous lab but using a factorial design. I assume you\n",
    "are familiar with the between subjects lab, conducted previously. In\n",
    "this lab, we consider whether the three logos have different effects for\n",
    "males or females, a question which marketing wants to know prior to\n",
    "pushing the ad to different markets.\n",
    "\n",
    "Before we begin, I will re-load the data and packages from the previous\n",
    "lab and score the scale.\n",
    "\n",
    "Note that we will need two new packages for this tutorial as well.\n",
    "Please install the package and the `ez` package, as it contains useful\n",
    "ANOVA features. Please also install the `phia` package, which contains\n",
    "useful tools for dissecting interactions."
   ]
  },
  {
   "cell_type": "code",
   "execution_count": 23,
   "metadata": {},
   "outputs": [
    {
     "name": "stderr",
     "output_type": "stream",
     "text": [
      "Installing package into 'C:/Users/StevePC2/Documents/R/win-library/3.5'\n",
      "(as 'lib' is unspecified)\n",
      "Warning message:\n",
      "\"package 'effsize' is in use and will not be installed\"Installing package into 'C:/Users/StevePC2/Documents/R/win-library/3.5'\n",
      "(as 'lib' is unspecified)\n",
      "Warning message:\n",
      "\"package 'psych' is in use and will not be installed\"Installing package into 'C:/Users/StevePC2/Documents/R/win-library/3.5'\n",
      "(as 'lib' is unspecified)\n",
      "Warning message:\n",
      "\"package 'ez' is in use and will not be installed\"Installing package into 'C:/Users/StevePC2/Documents/R/win-library/3.5'\n",
      "(as 'lib' is unspecified)\n",
      "Warning message:\n",
      "\"package 'phia' is in use and will not be installed\""
     ]
    },
    {
     "data": {
      "text/html": [
       "<table>\n",
       "<thead><tr><th scope=col>id</th><th scope=col>friendly</th><th scope=col>inviting</th><th scope=col>interesting</th><th scope=col>positive</th><th scope=col>pleasant</th><th scope=col>sex</th><th scope=col>logo</th><th scope=col>sentiment</th></tr></thead>\n",
       "<tbody>\n",
       "\t<tr><td> 3    </td><td>9     </td><td>8     </td><td>9     </td><td>10    </td><td>9     </td><td>f     </td><td>Logo A</td><td>9.0   </td></tr>\n",
       "\t<tr><td>98    </td><td>7     </td><td>6     </td><td>8     </td><td> 7    </td><td>7     </td><td>f     </td><td>Logo C</td><td>7.0   </td></tr>\n",
       "\t<tr><td>73    </td><td>5     </td><td>3     </td><td>6     </td><td> 6    </td><td>6     </td><td>m     </td><td>Logo C</td><td>5.2   </td></tr>\n",
       "\t<tr><td>89    </td><td>4     </td><td>5     </td><td>2     </td><td> 3    </td><td>4     </td><td>f     </td><td>Logo C</td><td>3.6   </td></tr>\n",
       "\t<tr><td>13    </td><td>8     </td><td>7     </td><td>9     </td><td> 8    </td><td>6     </td><td>f     </td><td>Logo A</td><td>7.6   </td></tr>\n",
       "\t<tr><td>19    </td><td>8     </td><td>7     </td><td>7     </td><td> 9    </td><td>7     </td><td>m     </td><td>Logo A</td><td>7.6   </td></tr>\n",
       "</tbody>\n",
       "</table>\n"
      ],
      "text/latex": [
       "\\begin{tabular}{r|lllllllll}\n",
       " id & friendly & inviting & interesting & positive & pleasant & sex & logo & sentiment\\\\\n",
       "\\hline\n",
       "\t  3     & 9      & 8      & 9      & 10     & 9      & f      & Logo A & 9.0   \\\\\n",
       "\t 98     & 7      & 6      & 8      &  7     & 7      & f      & Logo C & 7.0   \\\\\n",
       "\t 73     & 5      & 3      & 6      &  6     & 6      & m      & Logo C & 5.2   \\\\\n",
       "\t 89     & 4      & 5      & 2      &  3     & 4      & f      & Logo C & 3.6   \\\\\n",
       "\t 13     & 8      & 7      & 9      &  8     & 6      & f      & Logo A & 7.6   \\\\\n",
       "\t 19     & 8      & 7      & 7      &  9     & 7      & m      & Logo A & 7.6   \\\\\n",
       "\\end{tabular}\n"
      ],
      "text/markdown": [
       "\n",
       "id | friendly | inviting | interesting | positive | pleasant | sex | logo | sentiment | \n",
       "|---|---|---|---|---|---|\n",
       "|  3     | 9      | 8      | 9      | 10     | 9      | f      | Logo A | 9.0    | \n",
       "| 98     | 7      | 6      | 8      |  7     | 7      | f      | Logo C | 7.0    | \n",
       "| 73     | 5      | 3      | 6      |  6     | 6      | m      | Logo C | 5.2    | \n",
       "| 89     | 4      | 5      | 2      |  3     | 4      | f      | Logo C | 3.6    | \n",
       "| 13     | 8      | 7      | 9      |  8     | 6      | f      | Logo A | 7.6    | \n",
       "| 19     | 8      | 7      | 7      |  9     | 7      | m      | Logo A | 7.6    | \n",
       "\n",
       "\n"
      ],
      "text/plain": [
       "  id friendly inviting interesting positive pleasant sex logo   sentiment\n",
       "1  3 9        8        9           10       9        f   Logo A 9.0      \n",
       "2 98 7        6        8            7       7        f   Logo C 7.0      \n",
       "3 73 5        3        6            6       6        m   Logo C 5.2      \n",
       "4 89 4        5        2            3       4        f   Logo C 3.6      \n",
       "5 13 8        7        9            8       6        f   Logo A 7.6      \n",
       "6 19 8        7        7            9       7        m   Logo A 7.6      "
      ]
     },
     "metadata": {},
     "output_type": "display_data"
    }
   ],
   "source": [
    "#### LOAD PACKAGES ####\n",
    "install.packages('effsize')\n",
    "install.packages('psych')\n",
    "install.packages('ez')\n",
    "install.packages('phia')\n",
    "library(ggplot2)\n",
    "library(effsize)\n",
    "library(psych)\n",
    "library(ez)\n",
    "library(phia)\n",
    "\n",
    "#### LOAD DATA ####\n",
    "dat <- read.csv(\"datasets/logos.csv\", header=T)\n",
    "\n",
    "#### SCORE SENTIMENT SCALE ####\n",
    "dat$sentiment <- rowMeans(\n",
    "  data.frame(dat$friendly, dat$inviting, dat$interesting, dat$positive, dat$pleasant)\n",
    ")\n",
    "\n",
    "#### VIEW DATA #####\n",
    "head(dat)"
   ]
  },
  {
   "cell_type": "markdown",
   "metadata": {},
   "source": [
    "Vizualize the Data + Run Descriptives\n",
    "=====================================\n",
    "\n",
    "In a factorial design, we randomly assign a second treatment in addition\n",
    "to the first. For example, we could also make 50% of the logos in color\n",
    "and 50% in grey scale. Thus we would randomly assign people to one of\n",
    "the designs (3 levels: A, B, and C) and one of the colors (2 levels:\n",
    "color, grey scale). For this reason, this is referred to as a 2 x 3\n",
    "factorial design.\n",
    "\n",
    "One need not randomly assign the variable. One can also use a\n",
    "pre-existing grouping variable, such as sex. One caveat is needed,\n",
    "however; if the grouping variable was not randomly assigned to\n",
    "participants (e.g., favorite color), we cannot be sure if any observed\n",
    "effect is due to that variable or something else that might be causing\n",
    "it. For example, if participants who love the color purple tend to\n",
    "prefer Logo B, we don't know if that logo preference is due to the color\n",
    "or something else that might cause that color preference (see the\n",
    "discussion on prior causes in the regression lab).\n",
    "\n",
    "In our case, we will examine a 2 (sex: male, female) x 3 (logo: A, B, C)\n",
    "design. Although it is true that sex was not randomly assigned by the\n",
    "research team to participants, biological sex is randomly assigned at\n",
    "birth and has no known prior causes. Thus, any differences we see\n",
    "between the sexes can be ultimately assumed to result from sex.\n",
    "\n",
    "We can easily visualize our data using `ggplot2`, assigning the `fill`\n",
    "variable to give different colors to males and females. Remember that we\n",
    "had a missing value on the logo assignment for one participant, so we\n",
    "will tell `ggplot2` to only use rows of `dat` that are not missing on\n",
    "logo (`data=dat[!is.na(dat$logo),]`)"
   ]
  },
  {
   "cell_type": "code",
   "execution_count": 24,
   "metadata": {},
   "outputs": [
    {
     "data": {},
     "metadata": {},
     "output_type": "display_data"
    },
    {
     "data": {
      "image/png": "[encoded data removed]",
      "text/plain": [
       "plot without title"
      ]
     },
     "metadata": {},
     "output_type": "display_data"
    }
   ],
   "source": [
    "ggplot(data=dat[!is.na(dat$logo), ], aes(x=logo, y=sentiment, fill=sex))+\n",
    "  geom_boxplot(alpha=.20, color=\"black\")+\n",
    "  geom_jitter(alpha=.5, color=\"black\", fill=\"grey90\", width=.20)+\n",
    "  theme_light()+\n",
    "  scale_y_continuous(name=\"Sentiment\")+\n",
    "  scale_x_discrete(name=\"Logo\")+\n",
    "  scale_fill_discrete(name=\"Sex\")"
   ]
  },
  {
   "cell_type": "markdown",
   "metadata": {},
   "source": [
    "![](Mod5_Lab4_-_Factorial_files/figure-markdown_strict/unnamed-chunk-2-1.png)\n",
    "\n",
    "We do not see any large systematic differences in the overall levels of\n",
    "sentiment for males or females, nor do we see a substantively different\n",
    "pattern of liking across the three logos for males or females. Thus,\n",
    "perhaps sex does not matter much. We can pull the means out more easily\n",
    "with `tapply()`.\n",
    "\n",
    "Recall for `tapply()` accepts four arguments: the first is the variable\n",
    "to analyze, the second is a factor (or list of factors) across which we\n",
    "want to run the analysis, the third is the function we want to use in\n",
    "the analysis, and the rest are arguments to pass along to our function.\n",
    "In this case, we want means of `sentiment` across levels of `logo` and\n",
    "`sex`, with missing values ignored:"
   ]
  },
  {
   "cell_type": "code",
   "execution_count": 25,
   "metadata": {},
   "outputs": [
    {
     "data": {
      "text/html": [
       "<table>\n",
       "<thead><tr><th></th><th scope=col>f</th><th scope=col>m</th></tr></thead>\n",
       "<tbody>\n",
       "\t<tr><th scope=row>Logo A</th><td>8.833333</td><td>8.333333</td></tr>\n",
       "\t<tr><th scope=row>Logo B</th><td>8.550000</td><td>8.583333</td></tr>\n",
       "\t<tr><th scope=row>Logo C</th><td>7.045455</td><td>6.833333</td></tr>\n",
       "</tbody>\n",
       "</table>\n"
      ],
      "text/latex": [
       "\\begin{tabular}{r|ll}\n",
       "  & f & m\\\\\n",
       "\\hline\n",
       "\tLogo A & 8.833333 & 8.333333\\\\\n",
       "\tLogo B & 8.550000 & 8.583333\\\\\n",
       "\tLogo C & 7.045455 & 6.833333\\\\\n",
       "\\end{tabular}\n"
      ],
      "text/markdown": [
       "\n",
       "| <!--/--> | f | m | \n",
       "|---|---|---|\n",
       "| Logo A | 8.833333 | 8.333333 | \n",
       "| Logo B | 8.550000 | 8.583333 | \n",
       "| Logo C | 7.045455 | 6.833333 | \n",
       "\n",
       "\n"
      ],
      "text/plain": [
       "       f        m       \n",
       "Logo A 8.833333 8.333333\n",
       "Logo B 8.550000 8.583333\n",
       "Logo C 7.045455 6.833333"
      ]
     },
     "metadata": {},
     "output_type": "display_data"
    },
    {
     "data": {
      "text/html": [
       "<table>\n",
       "<thead><tr><th></th><th scope=col>f</th><th scope=col>m</th></tr></thead>\n",
       "<tbody>\n",
       "\t<tr><th scope=row>Logo A</th><td>1.129319</td><td>1.224745</td></tr>\n",
       "\t<tr><th scope=row>Logo B</th><td>1.468081</td><td>1.676486</td></tr>\n",
       "\t<tr><th scope=row>Logo C</th><td>1.290156</td><td>1.193416</td></tr>\n",
       "</tbody>\n",
       "</table>\n"
      ],
      "text/latex": [
       "\\begin{tabular}{r|ll}\n",
       "  & f & m\\\\\n",
       "\\hline\n",
       "\tLogo A & 1.129319 & 1.224745\\\\\n",
       "\tLogo B & 1.468081 & 1.676486\\\\\n",
       "\tLogo C & 1.290156 & 1.193416\\\\\n",
       "\\end{tabular}\n"
      ],
      "text/markdown": [
       "\n",
       "| <!--/--> | f | m | \n",
       "|---|---|---|\n",
       "| Logo A | 1.129319 | 1.224745 | \n",
       "| Logo B | 1.468081 | 1.676486 | \n",
       "| Logo C | 1.290156 | 1.193416 | \n",
       "\n",
       "\n"
      ],
      "text/plain": [
       "       f        m       \n",
       "Logo A 1.129319 1.224745\n",
       "Logo B 1.468081 1.676486\n",
       "Logo C 1.290156 1.193416"
      ]
     },
     "metadata": {},
     "output_type": "display_data"
    }
   ],
   "source": [
    "# Means\n",
    "tapply(dat$friendly, list(dat$logo, dat$sex), mean, na.rm=T)\n",
    "\n",
    "# SDs\n",
    "tapply(dat$friendly, list(dat$logo, dat$sex), sd, na.rm=T)"
   ]
  },
  {
   "cell_type": "markdown",
   "metadata": {},
   "source": [
    "Next, we can conduct the factorial ANOVA. In general, the ANOVA assesses\n",
    "whether:\n",
    "\n",
    "1.  There are significant differences between the two sexes (similar to\n",
    "    a one-way ANOVA or t-test)\n",
    "2.  There are significant differences between the three logos (similar\n",
    "    to a one-way ANOVA or t-test)\n",
    "3.  The two variables interact\n",
    "\n",
    "I consider these three questions next.\n",
    "\n",
    "Example with the `ez` package:\n",
    "==============================\n",
    "\n",
    "Factorial ANOVA designs can get tricky. The best way to conduct the\n",
    "analysis for real-world data is to use the `ezANOVA()` command from the\n",
    "`ez` package. This is because you can control the \"type\" of the analysis\n",
    "done. This goes beyond the scope of this tutorial, but most experimental\n",
    "researchers prefer to us \"type 3\" analyses for ANOVA. Note that the\n",
    "`aov()` command we used in the previous lab only works for perfectly\n",
    "balanced factorial designs (equal numbers of people in every permutation\n",
    "of the experiment, no missing data).\n",
    "\n",
    "To use this command, you run the `ezANOVA()` command. We must specify\n",
    "several arguments, including the standard `data=` argument, the `type=3`\n",
    "argument, and a few others.\n",
    "\n",
    "Second, we must list our variables. This is done by setting them inside\n",
    "`.()`. First, we have a variable called `wid=.()` that tracks the ID of\n",
    "each participant. If you don't have an id variable, we can easily give\n",
    "each participant a unique identifier with `1:nrow(dat)`, which creates a\n",
    "unique number for each participant. Next, we list the outcome variable\n",
    "as `dv`, in this case `dv=.(sentiment)`. Finally, we list our\n",
    "between-subjects variables using `between=.(sex, logo)`.\n",
    "\n",
    "> **Note:** Because of the imbalance in the number of cases for the interaction term, a warning message will be generated by exANOVA. "
   ]
  },
  {
   "cell_type": "code",
   "execution_count": 26,
   "metadata": {},
   "outputs": [
    {
     "name": "stderr",
     "output_type": "stream",
     "text": [
      "Warning message:\n",
      "\"You have removed one or more levels from variable \"logo\". Refactoring for ANOVA.\"Warning message:\n",
      "\"Data is unbalanced (unequal N per group). Make sure you specified a well-considered value for the type argument to ezANOVA().\"Coefficient covariances computed by hccm()\n"
     ]
    },
    {
     "data": {
      "text/html": [
       "<dl>\n",
       "\t<dt>$ANOVA</dt>\n",
       "\t\t<dd><table>\n",
       "<thead><tr><th></th><th scope=col>Effect</th><th scope=col>DFn</th><th scope=col>DFd</th><th scope=col>F</th><th scope=col>p</th><th scope=col>p&lt;.05</th><th scope=col>ges</th></tr></thead>\n",
       "<tbody>\n",
       "\t<tr><th scope=row>2</th><td>sex         </td><td>1           </td><td>93          </td><td> 0.6831763  </td><td>4.106107e-01</td><td>            </td><td>0.007292412 </td></tr>\n",
       "\t<tr><th scope=row>3</th><td>logo        </td><td>2           </td><td>93          </td><td>11.2931682  </td><td>4.067288e-05</td><td>*           </td><td>0.195406629 </td></tr>\n",
       "\t<tr><th scope=row>4</th><td>sex:logo    </td><td>2           </td><td>93          </td><td> 1.1956369  </td><td>3.071178e-01</td><td>            </td><td>0.025068057 </td></tr>\n",
       "</tbody>\n",
       "</table>\n",
       "</dd>\n",
       "\t<dt>$`Levene's Test for Homogeneity of Variance`</dt>\n",
       "\t\t<dd><table>\n",
       "<thead><tr><th scope=col>DFn</th><th scope=col>DFd</th><th scope=col>SSn</th><th scope=col>SSd</th><th scope=col>F</th><th scope=col>p</th><th scope=col>p&lt;.05</th></tr></thead>\n",
       "<tbody>\n",
       "\t<tr><td>5        </td><td>93       </td><td>1.283869 </td><td>80.80522 </td><td>0.2955249</td><td>0.9142809</td><td>         </td></tr>\n",
       "</tbody>\n",
       "</table>\n",
       "</dd>\n",
       "</dl>\n"
      ],
      "text/latex": [
       "\\begin{description}\n",
       "\\item[\\$ANOVA] \\begin{tabular}{r|lllllll}\n",
       "  & Effect & DFn & DFd & F & p & p<.05 & ges\\\\\n",
       "\\hline\n",
       "\t2 & sex          & 1            & 93           &  0.6831763   & 4.106107e-01 &              & 0.007292412 \\\\\n",
       "\t3 & logo         & 2            & 93           & 11.2931682   & 4.067288e-05 & *            & 0.195406629 \\\\\n",
       "\t4 & sex:logo     & 2            & 93           &  1.1956369   & 3.071178e-01 &              & 0.025068057 \\\\\n",
       "\\end{tabular}\n",
       "\n",
       "\\item[\\$`Levene's Test for Homogeneity of Variance`] \\begin{tabular}{r|lllllll}\n",
       " DFn & DFd & SSn & SSd & F & p & p<.05\\\\\n",
       "\\hline\n",
       "\t 5         & 93        & 1.283869  & 80.80522  & 0.2955249 & 0.9142809 &          \\\\\n",
       "\\end{tabular}\n",
       "\n",
       "\\end{description}\n"
      ],
      "text/markdown": [
       "$ANOVA\n",
       ":   \n",
       "| <!--/--> | Effect | DFn | DFd | F | p | p<.05 | ges | \n",
       "|---|---|---|\n",
       "| 2 | sex          | 1            | 93           |  0.6831763   | 4.106107e-01 |              | 0.007292412  | \n",
       "| 3 | logo         | 2            | 93           | 11.2931682   | 4.067288e-05 | *            | 0.195406629  | \n",
       "| 4 | sex:logo     | 2            | 93           |  1.1956369   | 3.071178e-01 |              | 0.025068057  | \n",
       "\n",
       "\n",
       "\n",
       "$`Levene's Test for Homogeneity of Variance`\n",
       ":   \n",
       "DFn | DFd | SSn | SSd | F | p | p<.05 | \n",
       "|---|\n",
       "| 5         | 93        | 1.283869  | 80.80522  | 0.2955249 | 0.9142809 |           | \n",
       "\n",
       "\n",
       "\n",
       "\n",
       "\n"
      ],
      "text/plain": [
       "$ANOVA\n",
       "    Effect DFn DFd          F            p p<.05         ges\n",
       "2      sex   1  93  0.6831763 4.106107e-01       0.007292412\n",
       "3     logo   2  93 11.2931682 4.067288e-05     * 0.195406629\n",
       "4 sex:logo   2  93  1.1956369 3.071178e-01       0.025068057\n",
       "\n",
       "$`Levene's Test for Homogeneity of Variance`\n",
       "  DFn DFd      SSn      SSd         F         p p<.05\n",
       "1   5  93 1.283869 80.80522 0.2955249 0.9142809      \n"
      ]
     },
     "metadata": {},
     "output_type": "display_data"
    }
   ],
   "source": [
    "#generate id variable for each subject as a factor variable\n",
    "dat$idvar <- as.factor(1:nrow(dat))\n",
    "\n",
    "ezANOVA(data=dat, \n",
    "        wid=.(idvar), \n",
    "        dv=.(sentiment), \n",
    "        between=.(sex, logo),\n",
    "        type=3)"
   ]
  },
  {
   "cell_type": "markdown",
   "metadata": {},
   "source": [
    "This produces a lot of output, but generally speaking, it produces the\n",
    "same results you would expect from the `aov()` output. There are three\n",
    "rows, similar to a regression output. One row, for `sex` is not\n",
    "significant. One row, for `logo` is significant. A third row, for\n",
    "`sex:logo` is not significant.\n",
    "\n",
    "This can be interpreted as follows:\n",
    "\n",
    "1.  There is not a significant sex difference overall\n",
    "2.  There are significant differences between the logos\n",
    "3.  There is not a significant \"interaction\" between sex and logo.\n",
    "\n",
    "Interactions can be understand as \"one variable influences the effect of\n",
    "another.\" So, the sex x logo interaction is asking: \"is there a\n",
    "different pattern of differences between the logos for males than for\n",
    "females?\" This is not the same as asking whether males or females have\n",
    "different levels of sentiment. Instead, we are asking whether the effect\n",
    "of `logo` is different at different levels of `sex`.\n",
    "\n",
    "You can also reverse this. This is the same as asking whether the effect\n",
    "of `sex` is different across the three `logos`. An interaction is\n",
    "essentially one variable influencing the effectiveness of another.\n",
    "\n",
    "It's worth remembering that a non-significant effect does *not* mean\n",
    "that there is zero effect. We can easily see the 95% CIs for our\n",
    "\"non-significant\" effects with Tukey's HSD test (below).\n",
    "\n",
    "It turns out you cannot perform Tukey's HST test on an `ezANOVA()`\n",
    "object; however, you can tell `ezANOVA()` to save an `aov` object for\n",
    "use in Tukey's and other tests. To do this, include the\n",
    "`return_aov=TRUE` argument. This will save in our output an `aov` object\n",
    "that we can feed into Tukey's test and other post-hoc comparison tests."
   ]
  },
  {
   "cell_type": "code",
   "execution_count": 27,
   "metadata": {},
   "outputs": [
    {
     "name": "stderr",
     "output_type": "stream",
     "text": [
      "Warning message:\n",
      "\"You have removed one or more levels from variable \"logo\". Refactoring for ANOVA.\"Warning message:\n",
      "\"Data is unbalanced (unequal N per group). Make sure you specified a well-considered value for the type argument to ezANOVA().\"Coefficient covariances computed by hccm()\n"
     ]
    }
   ],
   "source": [
    "mod <- ezANOVA(data=dat, \n",
    "        wid=.(idvar), \n",
    "        dv=.(sentiment), \n",
    "        between=.(sex, logo),\n",
    "        type=3,\n",
    "        return_aov=TRUE)"
   ]
  },
  {
   "cell_type": "markdown",
   "metadata": {},
   "source": [
    "From here, we can access the `aov` object with `mod$aov`. This can be\n",
    "thrown into Tukey's test:"
   ]
  },
  {
   "cell_type": "code",
   "execution_count": 28,
   "metadata": {},
   "outputs": [
    {
     "data": {
      "text/plain": [
       "Call:\n",
       "   aov(formula = formula(aov_formula), data = data)\n",
       "\n",
       "Terms:\n",
       "                      sex      logo  sex:logo Residuals\n",
       "Sum of Squares    1.60020  50.64975   4.50382 175.15977\n",
       "Deg. of Freedom         1         2         2        93\n",
       "\n",
       "Residual standard error: 1.372384\n",
       "Estimated effects may be unbalanced\n",
       "1 observation deleted due to missingness"
      ]
     },
     "metadata": {},
     "output_type": "display_data"
    },
    {
     "data": {
      "text/plain": [
       "  Tukey multiple comparisons of means\n",
       "    95% family-wise confidence level\n",
       "\n",
       "Fit: aov(formula = formula(aov_formula), data = data)\n",
       "\n",
       "$sex\n",
       "         diff        lwr       upr     p adj\n",
       "m-f -0.269697 -0.8507293 0.3113353 0.3590456\n",
       "\n",
       "$logo\n",
       "                    diff        lwr        upr     p adj\n",
       "Logo B-Logo A -0.1044249 -0.9154011  0.7065513 0.9495008\n",
       "Logo C-Logo A -1.5541241 -2.3528990 -0.7553493 0.0000345\n",
       "Logo C-Logo B -1.4496992 -2.2547827 -0.6446157 0.0001290\n",
       "\n",
       "$`sex:logo`\n",
       "                        diff       lwr         upr     p adj\n",
       "m:Logo A-f:Logo A -0.8527778 -2.413761  0.70820507 0.6073211\n",
       "f:Logo B-f:Logo A -0.4683333 -1.677465  0.74079878 0.8688982\n",
       "m:Logo B-f:Logo A -0.1916667 -1.603629  1.22029545 0.9987202\n",
       "f:Logo C-f:Logo A -1.7537879 -2.932560 -0.57501539 0.0005264\n",
       "m:Logo C-f:Logo A -1.9083333 -3.320295 -0.49637122 0.0021770\n",
       "f:Logo B-m:Logo A  0.3844444 -1.218545  1.98743433 0.9817530\n",
       "m:Logo B-m:Logo A  0.6611111 -1.099915  2.42213727 0.8832351\n",
       "f:Logo C-m:Logo A -0.9010101 -2.481225  0.67920529 0.5619348\n",
       "m:Logo C-m:Logo A -1.0555556 -2.816582  0.70547060 0.5065658\n",
       "m:Logo B-f:Logo B  0.2766667 -1.181602  1.73493487 0.9937332\n",
       "f:Logo C-f:Logo B -1.2854545 -2.519316 -0.05159324 0.0360762\n",
       "m:Logo C-f:Logo B -1.4400000 -2.898268  0.01826820 0.0549848\n",
       "f:Logo C-m:Logo B -1.5621212 -2.995317 -0.12892540 0.0243601\n",
       "m:Logo C-m:Logo B -1.7166667 -3.347060 -0.08627326 0.0330050\n",
       "m:Logo C-f:Logo C -0.1545455 -1.587741  1.27865036 0.9995814\n"
      ]
     },
     "metadata": {},
     "output_type": "display_data"
    }
   ],
   "source": [
    "mod$aov\n",
    "\n",
    "TukeyHSD(mod$aov)"
   ]
  },
  {
   "cell_type": "markdown",
   "metadata": {},
   "source": [
    "We see here that Tukey's test is returning more output than before, but\n",
    "we will only look at the overall logo analysis, given that nothing else\n",
    "was significant. We can also glance at the other analyses, specifically\n",
    "the confidence intervals (`lwr` and `upr` = the 95% CI). We see on many\n",
    "analyses that the confidence intervals are fairly large, especially\n",
    "toward the bottom third of the results where every individual\n",
    "permutation is compared against every other permutation. This tells us\n",
    "we may simply lack statistical power to find some effects. Power for\n",
    "ANOVA designs goes beyond the scope of this tutorial, but it's safe to\n",
    "say that large samples are desired.\n",
    "\n",
    "What if the interaction *had* been significant? That would simply tell\n",
    "us that at least one comparison (e.g., Logo A vs Logo B) yielded\n",
    "significantly different results across sexes (Male vs. Female). It could\n",
    "have been every logo comparison, two, or just one. To help isolate which\n",
    "parts of the logo pattern differ across males and females, we will use a\n",
    "tool called \"interaction contrasts.\" Simply put, this technique isolates\n",
    "which comparisons differ across sexes, allowing the researcher to\n",
    "isolate where the interaction is happening.\n",
    "\n",
    "To do this, we use the `phia` package (post-hoc interaction analysis).\n",
    "\n",
    "Next, we can use the `testInteractions()` command. We see here that it\n",
    "returns a list of three rows:"
   ]
  },
  {
   "cell_type": "code",
   "execution_count": 29,
   "metadata": {},
   "outputs": [
    {
     "data": {
      "text/html": [
       "<table>\n",
       "<thead><tr><th></th><th scope=col>Value</th><th scope=col>Df</th><th scope=col>Sum of Sq</th><th scope=col>F</th><th scope=col>Pr(&gt;F)</th></tr></thead>\n",
       "<tbody>\n",
       "\t<tr><th scope=row>f-m : Logo A-Logo B</th><td> 1.1294444 </td><td> 1         </td><td>  4.4585642</td><td>2.3672472  </td><td>0.3819029  </td></tr>\n",
       "\t<tr><th scope=row>f-m : Logo A-Logo C</th><td> 0.6982323 </td><td> 1         </td><td>  1.7314909</td><td>0.9193244  </td><td>0.6802770  </td></tr>\n",
       "\t<tr><th scope=row>f-m : Logo B-Logo C</th><td>-0.4312121 </td><td> 1         </td><td>  0.7093813</td><td>0.3766416  </td><td>0.6802770  </td></tr>\n",
       "\t<tr><th scope=row>Residuals</th><td>        NA </td><td>93         </td><td>175.1597677</td><td>       NA  </td><td>       NA  </td></tr>\n",
       "</tbody>\n",
       "</table>\n"
      ],
      "text/latex": [
       "\\begin{tabular}{r|lllll}\n",
       "  & Value & Df & Sum of Sq & F & Pr(>F)\\\\\n",
       "\\hline\n",
       "\tf-m : Logo A-Logo B &  1.1294444  &  1          &   4.4585642 & 2.3672472   & 0.3819029  \\\\\n",
       "\tf-m : Logo A-Logo C &  0.6982323  &  1          &   1.7314909 & 0.9193244   & 0.6802770  \\\\\n",
       "\tf-m : Logo B-Logo C & -0.4312121  &  1          &   0.7093813 & 0.3766416   & 0.6802770  \\\\\n",
       "\tResiduals &         NA  & 93          & 175.1597677 &        NA   &        NA  \\\\\n",
       "\\end{tabular}\n"
      ],
      "text/markdown": [
       "\n",
       "| <!--/--> | Value | Df | Sum of Sq | F | Pr(>F) | \n",
       "|---|---|---|---|\n",
       "| f-m : Logo A-Logo B |  1.1294444  |  1          |   4.4585642 | 2.3672472   | 0.3819029   | \n",
       "| f-m : Logo A-Logo C |  0.6982323  |  1          |   1.7314909 | 0.9193244   | 0.6802770   | \n",
       "| f-m : Logo B-Logo C | -0.4312121  |  1          |   0.7093813 | 0.3766416   | 0.6802770   | \n",
       "| Residuals |         NA  | 93          | 175.1597677 |        NA   |        NA   | \n",
       "\n",
       "\n"
      ],
      "text/plain": [
       "                    Value      Df Sum of Sq   F         Pr(>F)   \n",
       "f-m : Logo A-Logo B  1.1294444  1   4.4585642 2.3672472 0.3819029\n",
       "f-m : Logo A-Logo C  0.6982323  1   1.7314909 0.9193244 0.6802770\n",
       "f-m : Logo B-Logo C -0.4312121  1   0.7093813 0.3766416 0.6802770\n",
       "Residuals                   NA 93 175.1597677        NA        NA"
      ]
     },
     "metadata": {},
     "output_type": "display_data"
    }
   ],
   "source": [
    "testInteractions(mod$aov)"
   ]
  },
  {
   "cell_type": "markdown",
   "metadata": {},
   "source": [
    "The first row is listed `f-m : Logo A-Logo B`, which means we ask\n",
    "whether the \"Logo A vs. B\" comparison is *different* for males and\n",
    "females. We see that it is not significant (*p* = .38). None of these is\n",
    "significant, which does not surprise as the interaction was not\n",
    "significant to begin with. Truthfully, this just dissects the\n",
    "interaction. If the interaction was not significant to begin with,\n",
    "dissecting it is generally not seen as statistically responsible."
   ]
  }
 ],
 "metadata": {
  "kernelspec": {
   "display_name": "R",
   "language": "R",
   "name": "ir"
  },
  "language_info": {
   "codemirror_mode": "r",
   "file_extension": ".r",
   "mimetype": "text/x-r-source",
   "name": "R",
   "pygments_lexer": "r",
   "version": "3.5.0"
  }
 },
 "nbformat": 4,
 "nbformat_minor": 2
}
