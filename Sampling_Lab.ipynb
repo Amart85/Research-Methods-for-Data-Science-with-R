{
 "cells": [
  {
   "cell_type": "markdown",
   "metadata": {},
   "source": [
    "Module 2, Lab 1 - Sampling\n",
    "==========================\n",
    "\n",
    "In this lab, we will see how random samples (and the data analyses that\n",
    "come from them) estimate the populations they come from.\n",
    "\n",
    "This bears repeating: when you are working with a sample of data, you\n",
    "are using that as an estimate of the population that generated it.\n",
    "\n",
    "So, how good are your estimations? In working with professionals and\n",
    "students alike, I tend to find that our human intuitions are often\n",
    "wrong. However, we can play with sampling ourselves and see the results.\n",
    "\n",
    "First, we should set the seed. This tells R to use the same random\n",
    "numbers on your computer as mine, so that we should get the same\n",
    "results."
   ]
  },
  {
   "cell_type": "code",
   "execution_count": null,
   "metadata": {},
   "outputs": [],
   "source": [
    "set.seed(12345)"
   ]
  },
  {
   "cell_type": "markdown",
   "metadata": {},
   "source": [
    "To generate a random sample that is normally distributed, we use\n",
    "`rnorm(n, mean, sd)`. For example, 50 responses from a population with a\n",
    "mean of 10 and standard deviation of 2 are:"
   ]
  },
  {
   "cell_type": "code",
   "execution_count": null,
   "metadata": {},
   "outputs": [],
   "source": [
    "rnorm(50, 10, 2)\n",
    "\n",
    "##  [1] 11.171058 11.418932  9.781393  9.093006 11.211775  6.364088 11.260197\n",
    "##  [8]  9.447632  9.431681  8.161356  9.767504 13.634624 10.741256 11.040433\n",
    "## [15]  8.498936 11.633800  8.227285  9.336845 12.241425 10.597447 11.559244\n",
    "## [22] 12.911570  8.711343  6.893725  6.804581 13.610195  9.036705 11.240760\n",
    "## [29] 11.224247  9.675378 11.623746 14.393667 14.098381 13.264891 10.508542\n",
    "## [36] 10.982377  9.351827  6.675900 13.535468 10.051602 12.257022  5.239284\n",
    "## [43]  7.879469 11.874281 11.708903 12.921459  7.173802 11.134807 11.166375\n",
    "## [50]  7.386402"
   ]
  },
  {
   "cell_type": "markdown",
   "metadata": {},
   "source": [
    "We can also do something similar with a binomial distribution (data can\n",
    "have two outcomes, such as \"like\" and \"don't like\" a product). Here is\n",
    "the the code: `rbinom(n, size=1, prob)`. The `prob` argument represents\n",
    "the likelihood of getting a `1` as opposed to a `0`. The size argument\n",
    "changes the nature of the distribution in a way I won't discuss here. If\n",
    "we want to simulate 50 responses from a population in which 30% of\n",
    "people like your product (`1`) and 70% do not (`0`), we use:"
   ]
  },
  {
   "cell_type": "code",
   "execution_count": null,
   "metadata": {},
   "outputs": [],
   "source": [
    "rbinom(50, 1, .3)\n",
    "\n",
    "##  [1] 0 0 1 0 0 1 0 1 0 0 0 0 1 0 1 1 1 0 0 0 0 0 0 0 1 1 1 0 0 1 0 0 1 0 1\n",
    "## [36] 1 0 0 0 1 0 0 0 0 0 1 1 0 1 0"
   ]
  },
  {
   "cell_type": "markdown",
   "metadata": {},
   "source": [
    "In this case, each `1` represents someone who likes your product and\n",
    "each `0` represents someone who does not.\n",
    "\n",
    "There are many distributions we can use with many shapes, including\n",
    "distributions that have skew, distributions that can resemble counts of\n",
    "things (e.g., only discrete numbers, most scores zero). We will stick\n",
    "with these two for this lab.\n",
    "\n",
    "\"Like\" vs \"Dislike\"\n",
    "===================\n",
    "\n",
    "Let's try the example above in which each `1` represents someone who\n",
    "likes your product and each `0` represents someone who does not.\n",
    "\n",
    "This time, I will run the sample and save the result."
   ]
  },
  {
   "cell_type": "code",
   "execution_count": null,
   "metadata": {},
   "outputs": [],
   "source": [
    "sample1 <- rbinom(50, 1, .3)"
   ]
  },
  {
   "cell_type": "markdown",
   "metadata": {},
   "source": [
    "Now we can examine how well our sample did. In this case we *know* the\n",
    "population value was 30% (because we told R that when we ran the code).\n",
    "R then collected a random sample of 50 observations from that\n",
    "population. How close did it get to our true value of 30%?"
   ]
  },
  {
   "cell_type": "code",
   "execution_count": null,
   "metadata": {},
   "outputs": [],
   "source": [
    "table(sample1)\n",
    "\n",
    "## sample1\n",
    "##  0  1 \n",
    "## 27 23"
   ]
  },
  {
   "cell_type": "markdown",
   "metadata": {},
   "source": [
    "We wee here that we got 19 likes and 31 dislikes. We can convert to\n",
    "percentages by diving by 50 (which we can also get by requesting\n",
    "`sum(table(sample1)))`:"
   ]
  },
  {
   "cell_type": "code",
   "execution_count": null,
   "metadata": {},
   "outputs": [],
   "source": [
    "table(sample1)/50\n",
    "\n",
    "## sample1\n",
    "##    0    1 \n",
    "## 0.54 0.46\n",
    "\n",
    "table(sample1)/sum(table(sample1))\n",
    "\n",
    "## sample1\n",
    "##    0    1 \n",
    "## 0.54 0.46"
   ]
  },
  {
   "cell_type": "markdown",
   "metadata": {},
   "source": [
    "Our sample overestimated the number of people who like the product,\n",
    "returning \"38%\" instead of 30%.\n",
    "\n",
    "Because the data are coded `0` and `1`, we can also trick the math into\n",
    "returning a proportion by using `mean()`:"
   ]
  },
  {
   "cell_type": "code",
   "execution_count": null,
   "metadata": {},
   "outputs": [],
   "source": [
    "mean(sample1)\n",
    "\n",
    "## [1] 0.46"
   ]
  },
  {
   "cell_type": "markdown",
   "metadata": {},
   "source": [
    "Let's try this several times. Every time I run the code, a random sample\n",
    "will be collected, the proportion of people who like the product\n",
    "calculated, and reported to you."
   ]
  },
  {
   "cell_type": "code",
   "execution_count": null,
   "metadata": {},
   "outputs": [],
   "source": [
    "mean(rbinom(50, 1, .3))\n",
    "\n",
    "## [1] 0.3\n",
    "\n",
    "mean(rbinom(50, 1, .3))\n",
    "\n",
    "## [1] 0.38\n",
    "\n",
    "mean(rbinom(50, 1, .3))\n",
    "\n",
    "## [1] 0.3\n",
    "\n",
    "mean(rbinom(50, 1, .3))\n",
    "\n",
    "## [1] 0.34\n",
    "\n",
    "mean(rbinom(50, 1, .3))\n",
    "\n",
    "## [1] 0.3\n",
    "\n",
    "mean(rbinom(50, 1, .3))\n",
    "\n",
    "## [1] 0.36"
   ]
  },
  {
   "cell_type": "markdown",
   "metadata": {},
   "source": [
    "We see here that our samples are varying quite a bit. We can run many of\n",
    "these by using a loop. Let's try this 100 times. I assume you are\n",
    "familiar with loops in R."
   ]
  },
  {
   "cell_type": "code",
   "execution_count": null,
   "metadata": {},
   "outputs": [],
   "source": [
    "# create container to place results\n",
    "results <- NULL\n",
    "\n",
    "for(i in 1:100){\n",
    "  results[i] <- mean(rbinom(50, 1, .3))\n",
    "}\n",
    "\n",
    "results\n",
    "\n",
    "##   [1] 0.30 0.22 0.30 0.38 0.30 0.30 0.20 0.28 0.30 0.18 0.36 0.32 0.32 0.40\n",
    "##  [15] 0.28 0.32 0.28 0.38 0.36 0.34 0.30 0.44 0.38 0.36 0.28 0.24 0.32 0.22\n",
    "##  [29] 0.26 0.30 0.34 0.24 0.24 0.28 0.40 0.42 0.34 0.28 0.30 0.22 0.36 0.28\n",
    "##  [43] 0.26 0.18 0.34 0.20 0.34 0.38 0.34 0.26 0.34 0.32 0.24 0.26 0.32 0.28\n",
    "##  [57] 0.18 0.30 0.22 0.26 0.30 0.22 0.36 0.24 0.26 0.28 0.36 0.32 0.34 0.26\n",
    "##  [71] 0.30 0.28 0.40 0.28 0.32 0.28 0.38 0.36 0.32 0.32 0.18 0.22 0.14 0.34\n",
    "##  [85] 0.24 0.28 0.34 0.28 0.30 0.22 0.22 0.36 0.32 0.28 0.34 0.26 0.34 0.28\n",
    "##  [99] 0.40 0.28"
   ]
  },
  {
   "cell_type": "markdown",
   "metadata": {},
   "source": [
    "We see considerable variance in these results. We can histogram them to\n",
    "see it better:"
   ]
  },
  {
   "cell_type": "code",
   "execution_count": null,
   "metadata": {},
   "outputs": [],
   "source": [
    "hist(results)"
   ]
  },
  {
   "cell_type": "markdown",
   "metadata": {},
   "source": [
    "![](Sampling_Lab_files/figure-markdown_strict/unnamed-chunk-10-1.png)\n",
    "\n",
    "We see here that, on average, random samples are trustworthy--after all,\n",
    "they are tending to get close to 30%. However, *individual* samples are\n",
    "less trustworthy. Some results are nearly as large as 45% or as low as\n",
    "10%. Yikes!\n",
    "\n",
    "We can also subtract .30 from each score to re-score them as the degree\n",
    "of error in each sample."
   ]
  },
  {
   "cell_type": "code",
   "execution_count": null,
   "metadata": {},
   "outputs": [],
   "source": [
    "results.error <- results - .30\n",
    "\n",
    "results.error\n",
    "\n",
    "##   [1]  0.00 -0.08  0.00  0.08  0.00  0.00 -0.10 -0.02  0.00 -0.12  0.06\n",
    "##  [12]  0.02  0.02  0.10 -0.02  0.02 -0.02  0.08  0.06  0.04  0.00  0.14\n",
    "##  [23]  0.08  0.06 -0.02 -0.06  0.02 -0.08 -0.04  0.00  0.04 -0.06 -0.06\n",
    "##  [34] -0.02  0.10  0.12  0.04 -0.02  0.00 -0.08  0.06 -0.02 -0.04 -0.12\n",
    "##  [45]  0.04 -0.10  0.04  0.08  0.04 -0.04  0.04  0.02 -0.06 -0.04  0.02\n",
    "##  [56] -0.02 -0.12  0.00 -0.08 -0.04  0.00 -0.08  0.06 -0.06 -0.04 -0.02\n",
    "##  [67]  0.06  0.02  0.04 -0.04  0.00 -0.02  0.10 -0.02  0.02 -0.02  0.08\n",
    "##  [78]  0.06  0.02  0.02 -0.12 -0.08 -0.16  0.04 -0.06 -0.02  0.04 -0.02\n",
    "##  [89]  0.00 -0.08 -0.08  0.06  0.02 -0.02  0.04 -0.04  0.04 -0.02  0.10\n",
    "## [100] -0.02"
   ]
  },
  {
   "cell_type": "markdown",
   "metadata": {},
   "source": [
    "We see here that most sample scores are within about 5% of the true\n",
    "population value value. Still, depending on what we want to do with the\n",
    "data, that could be unacceptably large. The property of samples to\n",
    "\"mis-estimate\" the population is called sampling error and it is clearly\n",
    "a big problem, leading to many a bad decision. The degree to which your\n",
    "individual samples tend to \"mis-estimate\" the population (shown above:\n",
    "`results.error`) is something we want to estimate. Typically, we\n",
    "quantify this by taking the standard deviation of these errors. This is\n",
    "called \"standard error\", and it is a single number, how far \"off\" our\n",
    "samples tend to be, on average:"
   ]
  },
  {
   "cell_type": "code",
   "execution_count": null,
   "metadata": {},
   "outputs": [],
   "source": [
    "sd(results.error)\n",
    "\n",
    "## [1] 0.05974052"
   ]
  },
  {
   "cell_type": "markdown",
   "metadata": {},
   "source": [
    "Aha, so we see that the average sample is \"off\" from the population\n",
    "value by 6%. Some are \"off\" by more; some are \"off\" by less, but the\n",
    "average sample is off by 6%. In other words, our standard error is 6%.\n",
    "\n",
    "Fun fact: you can also estimate the standard error with a simple\n",
    "equation. For binomial data (`0` and `1` scores), the equation is:\n",
    "\n",
    "$$se = \\\\sqrt{\\\\frac{p\\\\left ( 1-p \\\\right )}{n-1}}$$\n",
    " Here, p is the percentage in the population. So, plugging in our\n",
    "values:"
   ]
  },
  {
   "cell_type": "code",
   "execution_count": null,
   "metadata": {},
   "outputs": [],
   "source": [
    "sqrt((.30*(1-.3))/(50-1))\n",
    "\n",
    "## [1] 0.06546537"
   ]
  },
  {
   "cell_type": "markdown",
   "metadata": {},
   "source": [
    "This is convenient, because it tells us that we don't really need to run\n",
    "simulations like the above to know how trustworthy our samples are. In\n",
    "fact, plugging in a reasonable guess for the population value and a\n",
    "sample size, we can know *before we run a study* how trustworthy a\n",
    "typical sample will be.\n",
    "\n",
    "Clearly, a large standard error is a bad thing. We can reduce this\n",
    "problem by relying on a larger sample. For example, try using a sample\n",
    "of 700 in the equation for standard error shown previously:"
   ]
  },
  {
   "cell_type": "code",
   "execution_count": null,
   "metadata": {},
   "outputs": [],
   "source": [
    "sqrt((.30*(1-.3))/(700-1))\n",
    "\n",
    "## [1] 0.01733289"
   ]
  },
  {
   "cell_type": "markdown",
   "metadata": {},
   "source": [
    "We see now that the typical sample will be off by only 1.7% from the\n",
    "population value. We can run a similar loop as done before and see this\n",
    "in action:"
   ]
  },
  {
   "cell_type": "code",
   "execution_count": null,
   "metadata": {},
   "outputs": [],
   "source": [
    "# create container to place results\n",
    "results <- NULL\n",
    "\n",
    "for(i in 1:100){\n",
    "  results[i] <- mean(rbinom(700, 1, .3))\n",
    "}\n",
    "\n",
    "sd(results)\n",
    "\n",
    "## [1] 0.0178508\n",
    "\n",
    "hist(results)"
   ]
  },
  {
   "cell_type": "markdown",
   "metadata": {},
   "source": [
    "![](Sampling_Lab_files/figure-markdown_strict/unnamed-chunk-15-1.png)\n",
    "\n",
    "We see here, now that most results between 26% and 34%, with the typical\n",
    "result being \"off\" by only 1.7%...exactly as our standard error equation\n",
    "predicted.\n",
    "\n",
    "Every data situation has a standard error. The point is not to learn a\n",
    "large number of equations but rather to emphasize the following point:\n",
    "samples (and the statistics they produce) are flawed estimates of the\n",
    "population. However, they become more and more accurate as the sample\n",
    "sizes they are based on increase.\n",
    "\n",
    "We will discover, soon, that this will give us the concept of\n",
    "statistical power. Large samples will produce results strong enough that\n",
    "we can make meaningful statements about the population (in such\n",
    "situations, we have \"good power\"), where small samples contain so much\n",
    "error that we cannot say much meaningful about the population (\"weak\n",
    "power\")."
   ]
  }
 ],
 "metadata": {
  "kernelspec": {
   "display_name": "R",
   "language": "R",
   "name": "r"
  },
  "language_info": {
   "codemirror_mode": "r",
   "file_extension": ".r",
   "mimetype": "text/x-r-source",
   "name": "R",
   "pygments_lexer": "r",
   "version": "3.4.1"
  }
 },
 "nbformat": 4,
 "nbformat_minor": 2
}
